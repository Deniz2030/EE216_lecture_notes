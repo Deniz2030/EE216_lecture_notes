{
 "cells": [
  {
   "cell_type": "code",
   "execution_count": 1,
   "id": "db47b5c8",
   "metadata": {},
   "outputs": [
    {
     "name": "stdout",
     "output_type": "stream",
     "text": [
      "I have 3 pens\n"
     ]
    }
   ],
   "source": [
    "#!/usr/bin/env python\n",
    "# coding: utf-8\n",
    "print(\"I have %d pens\" %3)"
   ]
  },
  {
   "cell_type": "code",
   "execution_count": 2,
   "id": "ef31aee1",
   "metadata": {},
   "outputs": [
    {
     "name": "stdout",
     "output_type": "stream",
     "text": [
      "3 pen cost 12TL\n"
     ]
    }
   ],
   "source": [
    "print(\"%d pen cost %dTL\" %(3,12))"
   ]
  },
  {
   "cell_type": "code",
   "execution_count": 3,
   "id": "50729caf",
   "metadata": {},
   "outputs": [
    {
     "name": "stdout",
     "output_type": "stream",
     "text": [
      "3 pen cost 12.36TL\n"
     ]
    }
   ],
   "source": [
    "print(\"%d pen cost %.2fTL\" %(3,12.3578999))"
   ]
  },
  {
   "cell_type": "code",
   "execution_count": 4,
   "id": "f82a4391",
   "metadata": {},
   "outputs": [
    {
     "name": "stdout",
     "output_type": "stream",
     "text": [
      "3 pen cost 12.357900TL\n"
     ]
    }
   ],
   "source": [
    "print(\"%d pen cost %fTL\" %(3,12.3578999))"
   ]
  },
  {
   "cell_type": "code",
   "execution_count": 5,
   "id": "e38f123f",
   "metadata": {},
   "outputs": [
    {
     "name": "stdout",
     "output_type": "stream",
     "text": [
      "3 pen cost 12.3578999TL\n"
     ]
    }
   ],
   "source": [
    "print(\"%d pen cost %.7fTL\" %(3,12.3578999))"
   ]
  },
  {
   "cell_type": "code",
   "execution_count": 6,
   "id": "09bcd559",
   "metadata": {},
   "outputs": [
    {
     "name": "stdout",
     "output_type": "stream",
     "text": [
      "3 pen cost 12.3579000TL\n"
     ]
    }
   ],
   "source": [
    "print(\"%d pen cost %.7fTL\" %(3,12.35789997));"
   ]
  },
  {
   "cell_type": "code",
   "execution_count": 7,
   "id": "5594dfb6",
   "metadata": {},
   "outputs": [
    {
     "name": "stdout",
     "output_type": "stream",
     "text": [
      "  5.12346\n"
     ]
    }
   ],
   "source": [
    "print(\"%9.5f\" % 5.1234567890) \n",
    "#Total 9 digits (including dot), 5 digits after dot\n",
    "#and 4 digits for the decimal part (including dot)..."
   ]
  },
  {
   "cell_type": "code",
   "execution_count": 8,
   "id": "33d88250",
   "metadata": {},
   "outputs": [
    {
     "name": "stdout",
     "output_type": "stream",
     "text": [
      "1234567890.12346\n"
     ]
    }
   ],
   "source": [
    "print(\"%9.5f\" % 1234567890.1234567890)\n",
    "#Total 9 digits (including dot), 5 digits after dot (4 digits for decimals). \n",
    "#But decimal digits are more than 4. \n",
    "#So all the decimals will be shown..."
   ]
  },
  {
   "cell_type": "code",
   "execution_count": 9,
   "id": "c3586d43",
   "metadata": {},
   "outputs": [
    {
     "name": "stdout",
     "output_type": "stream",
     "text": [
      "Your age is 20\n",
      "python_version=3.8\n",
      "age=20\n",
      "python_version=3.8\n"
     ]
    }
   ],
   "source": [
    "# THE USE OF F-STRINGS.......\n",
    "age = 20\n",
    "python_version = 3.8\n",
    "print(f'Your age is {age}')\n",
    "print(f'python_version={python_version}')\n",
    "print(f'{age=}')\n",
    "print(f'{python_version=}')"
   ]
  },
  {
   "cell_type": "code",
   "execution_count": null,
   "id": "a276c1bc",
   "metadata": {},
   "outputs": [],
   "source": [
    "'''\n",
    "Syntax: {:[width][.precision][type]}\n",
    "Type:\n",
    "d: integers\n",
    "f: floating point numbers\n",
    "*You need to specify precision only in case of floating point numbers\n",
    "Study it from here:  \n",
    "    https://towardsdatascience.com/a-simple-guide-to-string-formatting-in-python-using-f-strings-39e5c39589c3\n",
    "'''"
   ]
  },
  {
   "cell_type": "code",
   "execution_count": 10,
   "id": "430ca11f",
   "metadata": {},
   "outputs": [],
   "source": [
    "#..."
   ]
  },
  {
   "cell_type": "code",
   "execution_count": 11,
   "id": "4103f573",
   "metadata": {},
   "outputs": [
    {
     "data": {
      "text/plain": [
       "'If we want to add 6 blank spaces and align our text to the right, \\nwe only need to add a width of 8 (the default behavior is to align the text to the right)\\n'"
      ]
     },
     "execution_count": 11,
     "metadata": {},
     "output_type": "execute_result"
    }
   ],
   "source": [
    "'''If we want to add 6 blank spaces and align our text to the right, \n",
    "we only need to add a width of 8 (the default behavior is to align the text to the right)\n",
    "'''"
   ]
  },
  {
   "cell_type": "code",
   "execution_count": 12,
   "id": "700f27dd",
   "metadata": {},
   "outputs": [
    {
     "name": "stdout",
     "output_type": "stream",
     "text": [
      "20\n",
      "      20\n",
      "      20\n",
      "______20\n",
      "######20\n",
      "##################20\n",
      "20      \n",
      "20______\n",
      "20$$$$$$\n",
      "20$$$$$$$$$$$$$$$$$$\n"
     ]
    }
   ],
   "source": [
    "number = 20\n",
    "print(f'{number}')\n",
    "print(f'{number:8}')\n",
    "print(f'{number:>8}')   #Align to the right (width=8)\n",
    "print(f'{number:_>8}')  #Align to the right (width=8)\n",
    "print(f'{number:#>8}')  #Align to the right (width=8)\n",
    "print(f'{number:#>20}')  #Align to the right (width=8)\n",
    "print(f'{number:<8}')    #Align to the left  (width=8)\n",
    "print(f'{number:_<8}')   #Align to the left  (width=8)\n",
    "print(f'{number:$<8}')   #Align to the left  (width=8)\n",
    "print(f'{number:$<20}')   #Align to the left  (width=8)\n",
    "#We use _ as our padding above"
   ]
  },
  {
   "cell_type": "code",
   "execution_count": 13,
   "id": "2d492fcd",
   "metadata": {},
   "outputs": [
    {
     "name": "stdout",
     "output_type": "stream",
     "text": [
      "20.12300\n",
      "20.123cc\n",
      "2.700000\n",
      "XX2.700000\n"
     ]
    }
   ],
   "source": [
    "x = 20.123\n",
    "#Right padding with zeros\n",
    "print(f'{x:0<8}')\n",
    "print(f'{x:c<8}') \n",
    "print(f'{2.7:6f}')\n",
    "print(f'{2.7:X>10.6f}')"
   ]
  },
  {
   "cell_type": "code",
   "execution_count": 14,
   "id": "23f61b37",
   "metadata": {},
   "outputs": [
    {
     "data": {
      "text/plain": [
       "\"\\nThis is cool, but sometimes using the width makes things complicated because we have to calculate the final width \\nof our number after adding the 0's.\\nIt’s simpler to think of the number of decimals we want instead.\\nWe can get this using .precision from the syntax shown before. Let’s add 0’s until we have 5 decimals.\\n\""
      ]
     },
     "execution_count": 14,
     "metadata": {},
     "output_type": "execute_result"
    }
   ],
   "source": [
    "'''\n",
    "This is cool, but sometimes using the width makes things complicated because we have to calculate the final width \n",
    "of our number after adding the 0's.\n",
    "It’s simpler to think of the number of decimals we want instead.\n",
    "We can get this using .precision from the syntax shown before. Let’s add 0’s until we have 5 decimals.\n",
    "'''"
   ]
  },
  {
   "cell_type": "code",
   "execution_count": 15,
   "id": "88355d94",
   "metadata": {},
   "outputs": [
    {
     "name": "stdout",
     "output_type": "stream",
     "text": [
      "20.12300\n",
      "  20.12300\n",
      "zz20.12300\n",
      "20.12300zz\n"
     ]
    }
   ],
   "source": [
    "print(f'{x:.5f}')\n",
    "print(f'{x:10.5f}')\n",
    "print(f'{x:z>10.5f}')\n",
    "print(f'{x:z<10.5f}')\n",
    "#let's now write 01.03.2023 by using a=1, b=3, and c=2023"
   ]
  },
  {
   "cell_type": "code",
   "execution_count": 16,
   "id": "ed85506b",
   "metadata": {},
   "outputs": [
    {
     "data": {
      "text/plain": [
       "'\\nNow let’s add 0’s to the left. This is very useful when we need to create customized formats using numbers.\\nSay we want to obtain the following format: YYYYMMDD and we have regular numbers from 1–9. \\nIn this case, we’ll need to add 0’s to the left to the month and day.\\nHere are the 2 ways to do this with f-string.\\n'"
      ]
     },
     "execution_count": 16,
     "metadata": {},
     "output_type": "execute_result"
    }
   ],
   "source": [
    "#Left padding with zeros\n",
    "'''\n",
    "Now let’s add 0’s to the left. This is very useful when we need to create customized formats using numbers.\n",
    "Say we want to obtain the following format: YYYYMMDD and we have regular numbers from 1–9. \n",
    "In this case, we’ll need to add 0’s to the left to the month and day.\n",
    "Here are the 2 ways to do this with f-string.\n",
    "'''"
   ]
  },
  {
   "cell_type": "code",
   "execution_count": 17,
   "id": "3a3f3919",
   "metadata": {},
   "outputs": [],
   "source": [
    "year = 2022;month = 1;day = 5"
   ]
  },
  {
   "cell_type": "code",
   "execution_count": 18,
   "id": "619d9f66",
   "metadata": {},
   "outputs": [
    {
     "name": "stdout",
     "output_type": "stream",
     "text": [
      "20220105\n",
      "20220105\n",
      "2022.01.05\n",
      "2022.01.05\n",
      "year=2022 month=1 day=5\n",
      "year=2022 month=01 day=05\n",
      "01\n",
      "1.000000\n",
      "  1.000000\n",
      "X1.0000000\n",
      "XX1.000\n"
     ]
    }
   ],
   "source": [
    "# YYYYMMDD\n",
    "print(f'{year}{month:0>2}{day:0>2}')\n",
    "print(f'{year}{month:02d}{day:02d}')\n",
    "print(f'{year}.{month:02d}.{day:02d}')\n",
    "print(f'{year}.{month:02d}.{day:02d}')\n",
    "print(\"year=%d month=%d day=%d\" %(year, month, day))\n",
    "print(\"year=%d month=%02d day=%02d\" %(year, month, day))\n",
    "print(f'{month:02d}')\n",
    "print(f'{month:02f}') #Total 2 digits and default precision is 6 digits...\n",
    "print(f'{month:10f}') #Total 10 digits and default precision is 6 digits...\n",
    "print(f'{month:X>10.7f}') #See below (total digit number=10, prec is 7)\n",
    "print(f'{month:X>7.3f}') #See below"
   ]
  },
  {
   "cell_type": "code",
   "execution_count": 19,
   "id": "462da7be",
   "metadata": {},
   "outputs": [
    {
     "data": {
      "text/plain": [
       "'\\nRound float to “n” decimals\\nWhen it comes to rounding fload numbers to “n” decimals, it’s more practical to use the .precision with f type.\\nLet’s round the number below to 1 decimal.\\n'"
      ]
     },
     "execution_count": 19,
     "metadata": {},
     "output_type": "execute_result"
    }
   ],
   "source": [
    "'''\n",
    "Round float to “n” decimals\n",
    "When it comes to rounding fload numbers to “n” decimals, it’s more practical to use the .precision with f type.\n",
    "Let’s round the number below to 1 decimal.\n",
    "'''"
   ]
  },
  {
   "cell_type": "code",
   "execution_count": 20,
   "id": "dd2c5023",
   "metadata": {},
   "outputs": [
    {
     "name": "stdout",
     "output_type": "stream",
     "text": [
      "20.1\n",
      "20.12300\n",
      "20.1230___\n",
      "___20.1230\n",
      "AAA20.1230\n"
     ]
    }
   ],
   "source": [
    "x = 20.123; print(f'{x:.1f}')\n",
    "print(f'{x:.5f}')\n",
    "print(f'{x:_<10.4f}')\n",
    "print(f'{x:_>10.4f}')\n",
    "print(f'{x:A>10.4f}')"
   ]
  },
  {
   "cell_type": "code",
   "execution_count": 21,
   "id": "a3d737df",
   "metadata": {},
   "outputs": [
    {
     "name": "stdout",
     "output_type": "stream",
     "text": [
      "    1234.170\n",
      "XXXX1234.170\n"
     ]
    }
   ],
   "source": [
    "print(f'{1234.17:12.3f}')\n",
    "print(f'{1234.17:X>12.3f}')"
   ]
  },
  {
   "cell_type": "code",
   "execution_count": 22,
   "id": "b7c0a11a",
   "metadata": {},
   "outputs": [
    {
     "name": "stdout",
     "output_type": "stream",
     "text": [
      "20.1230YYY\n",
      "YYY20.1230\n",
      "   20.1230\n"
     ]
    }
   ],
   "source": [
    "print(f'{x:Y<10.4f}')\n",
    "print(f'{x:Y>10.4f}')\n",
    "print(f'{x:10.4f}') #default is right aligned..."
   ]
  },
  {
   "cell_type": "code",
   "execution_count": 23,
   "id": "d2298841",
   "metadata": {},
   "outputs": [],
   "source": [
    "#Also study from here: https://zetcode.com/python/fstring/"
   ]
  },
  {
   "cell_type": "code",
   "execution_count": 24,
   "id": "b583ac44",
   "metadata": {},
   "outputs": [],
   "source": [
    "#Now some more examples on various expressions of print functions with f-strings...."
   ]
  },
  {
   "cell_type": "code",
   "execution_count": 25,
   "id": "41b5ca51",
   "metadata": {},
   "outputs": [
    {
     "name": "stdout",
     "output_type": "stream",
     "text": [
      "Mehmet Akif Ersoy was born in 1873 and died in 1936\n"
     ]
    }
   ],
   "source": [
    "s1='Mehmet'; s2='Akif'; s3='Ersoy';birth=1873;death=1936; print(\"%s %s %s was born in %d and died in %d\" %(s1,s2,s3,birth,death))"
   ]
  },
  {
   "cell_type": "code",
   "execution_count": 26,
   "id": "ee78bd61",
   "metadata": {},
   "outputs": [
    {
     "name": "stdout",
     "output_type": "stream",
     "text": [
      "MehmetAkifErsoy was born in 1873 and died in 1936\n"
     ]
    }
   ],
   "source": [
    "print(s1+s2+s3,'was born in' ,birth,'and died in',death)"
   ]
  },
  {
   "cell_type": "code",
   "execution_count": 27,
   "id": "3461905c",
   "metadata": {},
   "outputs": [
    {
     "name": "stdout",
     "output_type": "stream",
     "text": [
      "Sunday\n",
      "Monday\n",
      "Tuesday\n",
      "Wednesday\n",
      "Thursday\n",
      "Friday\n",
      "Saturday\n"
     ]
    }
   ],
   "source": [
    "print(\"Sunday\\nMonday\\nTuesday\\nWednesday\\nThursday\\nFriday\\nSaturday\") # /n means go to a new line"
   ]
  },
  {
   "cell_type": "code",
   "execution_count": 28,
   "id": "d8036973",
   "metadata": {},
   "outputs": [
    {
     "name": "stdout",
     "output_type": "stream",
     "text": [
      "5.12346\n"
     ]
    }
   ],
   "source": [
    "print(\"%.5f\" % 5.1234567890)"
   ]
  },
  {
   "cell_type": "code",
   "execution_count": 29,
   "id": "904f61c0",
   "metadata": {},
   "outputs": [
    {
     "name": "stdout",
     "output_type": "stream",
     "text": [
      "MehmetAkifErsoy was born in 1873 and died in 1936\n",
      "It’s a great Sunday\n",
      "It’s a great day\n"
     ]
    },
    {
     "data": {
      "text/plain": [
       "11"
      ]
     },
     "execution_count": 29,
     "metadata": {},
     "output_type": "execute_result"
    }
   ],
   "source": [
    "#(Here we do slicing strings)\n",
    "(ss1,ss2,ss3,bbirth,ddeath)='Mehmet','Akif','Ersoy',1873,1936\n",
    "print(ss1+ss2+ss3,'was born in' ,bbirth,'and died in',ddeath)\n",
    "var1=\"It’s Sunday\"\n",
    "var2 = \"Have a great day\";\n",
    "var3 = var1[:5] + var2[5:13] + var1[5:];\n",
    "print(var3)\n",
    "var4=var1[:5] + var2[5:13] + var1[8:];\n",
    "print(var4)\n",
    "len(var1)"
   ]
  },
  {
   "cell_type": "code",
   "execution_count": 30,
   "id": "7c6885cf",
   "metadata": {},
   "outputs": [
    {
     "name": "stdout",
     "output_type": "stream",
     "text": [
      "Sam has 12 red balls and 31 yellow balls\n",
      "Sam has 31 red balls and 12 yellow balls\n"
     ]
    }
   ],
   "source": [
    "print('Sam has {0} red balls and {1} yellow balls'.format(12, 31))\n",
    "\n",
    "print('Sam has {1} red balls and {0} yellow balls'.format(12, 31))\n",
    "#Burada kaldık...Perşembe buradan devam edilecek..."
   ]
  },
  {
   "cell_type": "code",
   "execution_count": 31,
   "id": "f804d250",
   "metadata": {},
   "outputs": [],
   "source": [
    "# Python program showing how to use\n",
    "# string modulo operator(%) to print\n",
    "# fancier output\n",
    "# format:  %[flags][width][.precision]type "
   ]
  },
  {
   "cell_type": "code",
   "execution_count": 32,
   "id": "d9826598",
   "metadata": {},
   "outputs": [
    {
     "name": "stdout",
     "output_type": "stream",
     "text": [
      "Geeks :  1, Portal :  5.33\n"
     ]
    }
   ],
   "source": [
    "# print integer and float value\n",
    "print(\"Geeks : %2d, Portal : %5.2f\" % (1, 05.333))"
   ]
  },
  {
   "cell_type": "code",
   "execution_count": 33,
   "id": "048f0cba",
   "metadata": {},
   "outputs": [
    {
     "name": "stdout",
     "output_type": "stream",
     "text": [
      "Total students : 240, Boys : 120\n",
      "Total students : 240, Boys :   120\n"
     ]
    }
   ],
   "source": [
    "# print integer value\n",
    "print(\"Total students : %3d, Boys : %2d\" % (240, 120))\n",
    "print(\"Total students : %3d, Boys : %5d\" % (240, 120)) # attention:3 blanks on the left of 120"
   ]
  },
  {
   "cell_type": "code",
   "execution_count": 34,
   "id": "f5910036",
   "metadata": {},
   "outputs": [
    {
     "name": "stdout",
     "output_type": "stream",
     "text": [
      "    031\n",
      "  031\n",
      "     31\n",
      " 3.561E+02\n",
      "3.561E+02\n",
      "      3.561E+02\n"
     ]
    }
   ],
   "source": [
    "# print octal value\n",
    "print(\"%7.3o\" % (25))\n",
    "print(\"%5.3o\" % (25))\n",
    "print(\"%7.2o\" % (25))\n",
    "# print exponential value\n",
    "print(\"%10.3E\" % (356.08977))\n",
    "print(\"%9.3E\" % (356.08977))\n",
    "print(\"%15.3E\" % (356.08977)) #☻see the differences (blanks on the left)"
   ]
  },
  {
   "cell_type": "code",
   "execution_count": 35,
   "id": "38690feb",
   "metadata": {},
   "outputs": [
    {
     "name": "stdout",
     "output_type": "stream",
     "text": [
      "I love Aydin and \"Adu!\"\n"
     ]
    }
   ],
   "source": [
    "# using format() method\n",
    "print('I love {} and \"{}!\"'.format('Aydin', 'Adu'))"
   ]
  },
  {
   "cell_type": "code",
   "execution_count": 36,
   "id": "e01bb27b",
   "metadata": {},
   "outputs": [
    {
     "name": "stdout",
     "output_type": "stream",
     "text": [
      "Aydin and Adu\n",
      "Adu and Aydin\n"
     ]
    }
   ],
   "source": [
    "# using format() method and referring\n",
    "# a position of the object\n",
    "print('{0} and {1}'.format('Aydin', 'Adu'))\n",
    "print('{1} and {0}'.format('Aydin', 'Adu'))"
   ]
  },
  {
   "cell_type": "code",
   "execution_count": 37,
   "id": "56bb0d1c",
   "metadata": {},
   "outputs": [],
   "source": [
    "# the above formatting can also be done by using f-Strings\n",
    "# Although, this features work only with python 3.6 or above."
   ]
  },
  {
   "cell_type": "code",
   "execution_count": 38,
   "id": "73000053",
   "metadata": {},
   "outputs": [
    {
     "name": "stdout",
     "output_type": "stream",
     "text": [
      "\n",
      "Binary representation of 16 is \n",
      "10000\n"
     ]
    }
   ],
   "source": [
    "# Expressions of Integers in binary, octal, Hexadecimal, and E-forms\n",
    "String1 = \"{0:b}\".format(16)\n",
    "print(\"\\nBinary representation of 16 is \")\n",
    "print(String1)"
   ]
  },
  {
   "cell_type": "code",
   "execution_count": 39,
   "id": "56ae971f",
   "metadata": {},
   "outputs": [
    {
     "name": "stdout",
     "output_type": "stream",
     "text": [
      "\n",
      "Binary representation of 16 is \n",
      "20\n"
     ]
    }
   ],
   "source": [
    "String1 = \"{0:o}\".format(16)\n",
    "print(\"\\nBinary representation of 16 is \")\n",
    "print(String1)"
   ]
  },
  {
   "cell_type": "code",
   "execution_count": 40,
   "id": "b6b0dde5",
   "metadata": {},
   "outputs": [
    {
     "name": "stdout",
     "output_type": "stream",
     "text": [
      "\n",
      "Hexadecimal representation of 16 is \n",
      "10\n"
     ]
    }
   ],
   "source": [
    "String1 = \"{0:x}\".format(16)\n",
    "print(\"\\nHexadecimal representation of 16 is \")\n",
    "print(String1)"
   ]
  },
  {
   "cell_type": "code",
   "execution_count": 41,
   "id": "06947a0d",
   "metadata": {},
   "outputs": [
    {
     "name": "stdout",
     "output_type": "stream",
     "text": [
      "\n",
      "Hexadecimal representation of 31 is \n",
      "1f\n"
     ]
    }
   ],
   "source": [
    "String1 = \"{0:x}\".format(31)\n",
    "print(\"\\nHexadecimal representation of 31 is \")\n",
    "print(String1)"
   ]
  },
  {
   "cell_type": "code",
   "execution_count": 42,
   "id": "d25fae33",
   "metadata": {},
   "outputs": [
    {
     "name": "stdout",
     "output_type": "stream",
     "text": [
      "\n",
      "Hexadecimal representation of 31 is \n",
      "1F\n"
     ]
    }
   ],
   "source": [
    "String1 = \"{0:X}\".format(31)  #♥ in big charactersssss\n",
    "print(\"\\nHexadecimal representation of 31 is \")\n",
    "print(String1)"
   ]
  },
  {
   "cell_type": "code",
   "execution_count": 43,
   "id": "87375dca",
   "metadata": {},
   "outputs": [
    {
     "name": "stdout",
     "output_type": "stream",
     "text": [
      "\n",
      "Exponent representation of 165.6458 is \n",
      "1.656458e+02\n"
     ]
    }
   ],
   "source": [
    "# Formatting of Floats\n",
    "String1 = \"{0:e}\".format(165.6458)\n",
    "print(\"\\nExponent representation of 165.6458 is \")\n",
    "print(String1)"
   ]
  },
  {
   "cell_type": "code",
   "execution_count": 44,
   "id": "3d4617d2",
   "metadata": {},
   "outputs": [
    {
     "name": "stdout",
     "output_type": "stream",
     "text": [
      "\n",
      "one-sixth is : \n",
      "0.17\n"
     ]
    }
   ],
   "source": [
    "# Rounding off Integers\n",
    "String1 = \"{0:.2f}\".format(1/6)\n",
    "print(\"\\none-sixth is : \")\n",
    "print(String1)"
   ]
  },
  {
   "cell_type": "code",
   "execution_count": 46,
   "id": "6020de00",
   "metadata": {},
   "outputs": [],
   "source": [
    "#Study also th followings (Very important!!!): \n",
    "#    https://www.numpyninja.com/post/how-to-format-strings-using-print-in-python"
   ]
  },
  {
   "cell_type": "code",
   "execution_count": 47,
   "id": "4cd3d440",
   "metadata": {},
   "outputs": [
    {
     "name": "stdout",
     "output_type": "stream",
     "text": [
      "I love Adu in \"Aydin!\"\n"
     ]
    }
   ],
   "source": [
    "print(f\"I love {'Adu'} in \\\"{'Aydin'}!\\\"\")    \n",
    "#Above: Pay attention that \\\" means a quotation mark inside double quotation marks."
   ]
  },
  {
   "cell_type": "code",
   "execution_count": 48,
   "id": "c55c2b9c",
   "metadata": {},
   "outputs": [
    {
     "name": "stdout",
     "output_type": "stream",
     "text": [
      "Aydin and Adu\n"
     ]
    }
   ],
   "source": [
    "# using format() method and referring\n",
    "# a position of the object\n",
    "print(f\"{'Aydin'} and {'Adu'}\")"
   ]
  },
  {
   "cell_type": "code",
   "execution_count": 49,
   "id": "0c412350",
   "metadata": {},
   "outputs": [],
   "source": [
    "# Python program showing\n",
    "# a use of format() method"
   ]
  },
  {
   "cell_type": "code",
   "execution_count": 50,
   "id": "df0a1dcd",
   "metadata": {},
   "outputs": [
    {
     "name": "stdout",
     "output_type": "stream",
     "text": [
      "Adu is a university in Aydin, which is a city in the west of Turkey.\n"
     ]
    }
   ],
   "source": [
    "# combining positional and keyword arguments\n",
    "print('{0} is a university in {1}, which is a city in the west of {other}.'.format('Adu', 'Aydin', other ='Turkey'))"
   ]
  },
  {
   "cell_type": "code",
   "execution_count": 51,
   "id": "e08b36e3",
   "metadata": {},
   "outputs": [
    {
     "name": "stdout",
     "output_type": "stream",
     "text": [
      "Adu :12, Portal :    0.55\n",
      "Adu :  12, Portal :    0.55\n",
      "Adu:  12, Portal :0.55\n",
      "Adu :  12, Portal :ZZZZ0.55\n",
      "Numberplate of Aydın :   9, Telephone code of Aydin:0.256\n",
      "Numberplate of Aydın :09, Telephone code of Aydin:0.256\n",
      "Numberplate of Aydın :09, Telephone code of Aydin:0.256\n"
     ]
    }
   ],
   "source": [
    "# using format() method with number\n",
    "print(\"Adu :{0:2d}, Portal :{1:8.2f}\".format(12, 00.546))\n",
    "print(\"Adu :{0:4d}, Portal :{1:8.2f}\".format(12, 00.546))\n",
    "print(\"Adu:{0:4d}, Portal :{1:4.2f}\".format(12, 00.546))\n",
    "print(\"Adu :{0:4d}, Portal :{1:Z>8.2f}\".format(12, 00.546)) #See the differences...\n",
    "print(\"Numberplate of Aydın :{0:4d}, Telephone code of Aydin:{1:0>5.3f}\".format(9, 00.256)) \n",
    "print(\"Numberplate of Aydın :{0:0>2.0f}, Telephone code of Aydin:{1:0>5.3f}\".format(9, 00.256))#See the differences...\n",
    "print(\"Numberplate of Aydın :{0:0>2d}, Telephone code of Aydin:{1:0>5.3f}\".format(9, 00.256)) #See the differences..."
   ]
  },
  {
   "cell_type": "code",
   "execution_count": 52,
   "id": "917cbb18",
   "metadata": {},
   "outputs": [
    {
     "name": "stdout",
     "output_type": "stream",
     "text": [
      "Second argument:  11, first one:   47.42\n",
      "Second argument:  11, first one: $$47.42\n",
      "Second argument:  11, first one: 47.4200\n",
      "Second argument:  11, first one: $$$$$47.42\n",
      "Geeks:   453, Portal:    59.06\n"
     ]
    }
   ],
   "source": [
    "# Changing positional argument\n",
    "print(\"Second argument: {1:3d}, first one: {0:7.2f}\".format(47.42, 11))\n",
    "print(\"Second argument: {1:3d}, first one: {0:$>7.2f}\".format(47.42, 11))\n",
    "print(\"Second argument: {1:3d}, first one: {0:$>7.4f}\".format(47.42, 11))\n",
    "print(\"Second argument: {1:3d}, first one: {0:$>10.2f}\".format(47.42, 11)) #See the differences...\n",
    "print(\"Geeks: {a:5d}, Portal: {p:8.2f}\".format(a = 453, p = 59.058))"
   ]
  },
  {
   "cell_type": "code",
   "execution_count": 53,
   "id": "1f1b6090",
   "metadata": {},
   "outputs": [],
   "source": [
    "# Python program to\n",
    "# format a output using\n",
    "# string() method\n",
    " "
   ]
  },
  {
   "cell_type": "code",
   "execution_count": 54,
   "id": "06ee309d",
   "metadata": {},
   "outputs": [
    {
     "name": "stdout",
     "output_type": "stream",
     "text": [
      "Center aligned string with fillchr: \n",
      "#####I love Adu in Aydin in Turkey######\n"
     ]
    }
   ],
   "source": [
    "cstr = \"I love Adu in Aydin in Turkey\"\n",
    "len(cstr)   #Number of characters (lenth of cstr)\n",
    "# Printing the center aligned \n",
    "# string with fillchr\n",
    "print (\"Center aligned string with fillchr: \")\n",
    "print (cstr.center(40, '#'))"
   ]
  },
  {
   "cell_type": "code",
   "execution_count": 55,
   "id": "e309a5bf",
   "metadata": {},
   "outputs": [
    {
     "name": "stdout",
     "output_type": "stream",
     "text": [
      "The left aligned string is : \n",
      "I love Adu in Aydin in Turkey-----------\n"
     ]
    }
   ],
   "source": [
    "# Printing the left aligned \n",
    "# string with \"-\" padding \n",
    "print (\"The left aligned string is : \")\n",
    "print (cstr.ljust(40, '-'))"
   ]
  },
  {
   "cell_type": "code",
   "execution_count": 56,
   "id": "92777121",
   "metadata": {},
   "outputs": [
    {
     "name": "stdout",
     "output_type": "stream",
     "text": [
      "The right aligned string is : \n",
      "-----------I love Adu in Aydin in Turkey\n"
     ]
    }
   ],
   "source": [
    "# Printing the right aligned string\n",
    "# with \"-\" padding \n",
    "print (\"The right aligned string is : \")\n",
    "print (cstr.rjust(40, '-'))"
   ]
  },
  {
   "cell_type": "code",
   "execution_count": 57,
   "id": "bcd5e8aa",
   "metadata": {},
   "outputs": [],
   "source": [
    "#Now slicing texts.... (very important)......"
   ]
  },
  {
   "cell_type": "code",
   "execution_count": 58,
   "id": "f481fda0",
   "metadata": {},
   "outputs": [
    {
     "data": {
      "text/plain": [
       "'String Slicing\\nTo access a range of characters in the String, the method of slicing is used. \\nSlicing in a String is done by using a Slicing operator (colon). '"
      ]
     },
     "execution_count": 58,
     "metadata": {},
     "output_type": "execute_result"
    }
   ],
   "source": [
    "\"\"\"String Slicing\n",
    "To access a range of characters in the String, the method of slicing is used. \n",
    "Slicing in a String is done by using a Slicing operator (colon). \"\"\""
   ]
  },
  {
   "cell_type": "code",
   "execution_count": 59,
   "id": "944b40bd",
   "metadata": {},
   "outputs": [
    {
     "name": "stdout",
     "output_type": "stream",
     "text": [
      "Initial String: \n",
      "I love Adu in Aydin in Turkey\n"
     ]
    }
   ],
   "source": [
    "cstr = \"I love Adu in Aydin in Turkey\"\n",
    "print(\"Initial String: \")\n",
    "print(cstr)"
   ]
  },
  {
   "cell_type": "code",
   "execution_count": 60,
   "id": "f44fec67",
   "metadata": {},
   "outputs": [
    {
     "name": "stdout",
     "output_type": "stream",
     "text": [
      "\n",
      "Slicing characters from 3-12: \n",
      "ove Adu i\n",
      "I love Adu\n",
      "I love Turkey\n"
     ]
    }
   ],
   "source": [
    "# Printing 3rd to 12th character\n",
    "print(\"\\nSlicing characters from 3-12: \")\n",
    "print(cstr[3:12]) # last value (12th value) is not included...\n",
    "print(cstr[0:10]) # last value (10th value) is not included...\n",
    "print(cstr[0:6]+' '+cstr[23:29])"
   ]
  },
  {
   "cell_type": "code",
   "execution_count": 61,
   "id": "7e5638b0",
   "metadata": {},
   "outputs": [
    {
     "name": "stdout",
     "output_type": "stream",
     "text": [
      "\n",
      "Slicing characters between 7th and 10th last character: \n",
      "Adu in Aydin\n"
     ]
    }
   ],
   "source": [
    "# Printing characters between\n",
    "# 3rd and 2nd last character\n",
    "print(\"\\nSlicing characters between \" + \"7th and 10th last character: \")\n",
    "print(cstr[7:-10])"
   ]
  },
  {
   "cell_type": "code",
   "execution_count": 62,
   "id": "967a54ec",
   "metadata": {},
   "outputs": [
    {
     "name": "stdout",
     "output_type": "stream",
     "text": [
      "yekruT ni nidyA ni udA evol I\n"
     ]
    }
   ],
   "source": [
    "print(cstr[::-1])  #reversing a string"
   ]
  },
  {
   "cell_type": "code",
   "execution_count": null,
   "id": "b22f0409",
   "metadata": {},
   "outputs": [],
   "source": [
    "# Reverse the string using reversed and join function\n",
    "new = \"\".join(reversed(cstr))\n",
    "print(new)"
   ]
  }
 ],
 "metadata": {
  "kernelspec": {
   "display_name": "Python 3 (ipykernel)",
   "language": "python",
   "name": "python3"
  },
  "language_info": {
   "codemirror_mode": {
    "name": "ipython",
    "version": 3
   },
   "file_extension": ".py",
   "mimetype": "text/x-python",
   "name": "python",
   "nbconvert_exporter": "python",
   "pygments_lexer": "ipython3",
   "version": "3.9.13"
  }
 },
 "nbformat": 4,
 "nbformat_minor": 5
}
