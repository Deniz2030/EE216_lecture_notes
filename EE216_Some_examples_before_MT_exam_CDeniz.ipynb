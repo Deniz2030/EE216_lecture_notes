{
 "cells": [
  {
   "cell_type": "code",
   "execution_count": 1,
   "id": "64383b4f",
   "metadata": {},
   "outputs": [
    {
     "data": {
      "text/plain": [
       "'\\nCreated on Thu Nov  9 21:48:56 2023\\n\\n@author: LENOVO\\n'"
      ]
     },
     "execution_count": 1,
     "metadata": {},
     "output_type": "execute_result"
    }
   ],
   "source": [
    "# -*- coding: utf-8 -*-\n",
    "\"\"\"\n",
    "Created on Thu Nov  9 21:48:56 2023\n",
    "\n",
    "@author: LENOVO\n",
    "\"\"\"\n",
    "#Study each example below. Guess the output before you run the codes...\n",
    "######################################################################"
   ]
  },
  {
   "cell_type": "code",
   "execution_count": 2,
   "id": "f9b08973",
   "metadata": {},
   "outputs": [
    {
     "name": "stdout",
     "output_type": "stream",
     "text": [
      "0\n",
      "0\n",
      "1\n",
      "10\n",
      "2\n",
      "20\n",
      "3\n",
      "30\n",
      "4\n",
      "40\n",
      "5\n",
      "50\n",
      "6\n",
      "60\n",
      "7\n",
      "70\n",
      "8\n",
      "80\n",
      "9\n",
      "90\n"
     ]
    }
   ],
   "source": [
    "######################################################################\n",
    "for i in range(10):\n",
    "    print(i)\n",
    "    print (10*i)"
   ]
  },
  {
   "cell_type": "code",
   "execution_count": 3,
   "id": "656d8e12",
   "metadata": {},
   "outputs": [
    {
     "name": "stdout",
     "output_type": "stream",
     "text": [
      "0\n",
      "1\n",
      "2\n",
      "3\n",
      "4\n",
      "5\n",
      "6\n",
      "7\n",
      "8\n",
      "9\n"
     ]
    }
   ],
   "source": [
    "######################################################################   \n",
    "for j in range(10):\n",
    "    print(j)"
   ]
  },
  {
   "cell_type": "code",
   "execution_count": 4,
   "id": "95bcb04a",
   "metadata": {},
   "outputs": [
    {
     "name": "stdout",
     "output_type": "stream",
     "text": [
      "0\n",
      "0\n",
      "2\n",
      "20\n",
      "4\n",
      "40\n",
      "6\n",
      "60\n",
      "8\n",
      "80\n"
     ]
    }
   ],
   "source": [
    "######################################################################\n",
    "for i in range(0,10,2):\n",
    "    print(i)\n",
    "    print (10*i)"
   ]
  },
  {
   "cell_type": "code",
   "execution_count": 5,
   "id": "af783b56",
   "metadata": {},
   "outputs": [
    {
     "name": "stdout",
     "output_type": "stream",
     "text": [
      "modulus is zero\n",
      "1\n",
      "modulus is zero\n",
      "3\n",
      "modulus is zero\n",
      "5\n",
      "modulus is zero\n",
      "7\n",
      "modulus is zero\n",
      "9\n"
     ]
    }
   ],
   "source": [
    "######################################################################\n",
    "for i in range(10):\n",
    "    if i%2==0:\n",
    "        print(\"modulus is zero\")\n",
    "    else:\n",
    "        print (i)"
   ]
  },
  {
   "cell_type": "code",
   "execution_count": 6,
   "id": "97821d99",
   "metadata": {},
   "outputs": [
    {
     "name": "stdout",
     "output_type": "stream",
     "text": [
      "ş\n",
      "ç\n",
      "ö\n",
      "ğ\n",
      "ü\n",
      "İ\n",
      "ı\n"
     ]
    }
   ],
   "source": [
    "######################################################################       \n",
    "tr_letters = \"şçöğüİı\"\n",
    "for letter in tr_letters:\n",
    "    print(letter)"
   ]
  },
  {
   "cell_type": "code",
   "execution_count": 7,
   "id": "73798a6c",
   "metadata": {},
   "outputs": [
    {
     "name": "stdout",
     "output_type": "stream",
     "text": [
      "Your pwsd: çiğdem\n",
      "You can't use Turkish characters in your pswd\n",
      "You can't use Turkish characters in your pswd\n"
     ]
    }
   ],
   "source": [
    "######################################################################\n",
    "tr_letters = \"şçöğüİı\"\n",
    "pswd = input(\"Your pwsd: \")\n",
    "for char in pswd:\n",
    "    if char in tr_letters:\n",
    "        print(\"You can't use Turkish characters in your pswd\")"
   ]
  },
  {
   "cell_type": "code",
   "execution_count": 8,
   "id": "303e9541",
   "metadata": {},
   "outputs": [
    {
     "name": "stdout",
     "output_type": "stream",
     "text": [
      "Your pwsd: çiğdem\n",
      "You have entered 2 Turkish characters.\n",
      "You can't use Turkish characters in your pswd\n"
     ]
    }
   ],
   "source": [
    "######################################################################\n",
    "i=0;tr_letters = \"şçöğüİı\"\n",
    "pswd = input(\"Your pwsd: \")\n",
    "for char in pswd:\n",
    "    if char in tr_letters:\n",
    "        i=i+1\n",
    "if i>0:\n",
    "      print(\"You have entered {} Turkish characters.\\nYou can't use Turkish characters in your pswd\".format(i))\n"
   ]
  },
  {
   "cell_type": "code",
   "execution_count": 9,
   "id": "10c1ad91",
   "metadata": {},
   "outputs": [
    {
     "name": "stdout",
     "output_type": "stream",
     "text": [
      "Your pwsd: çiğdem\n",
      "You have entered 1 Turkish characters.\n",
      "You can't use Turkish characters in your pswd\n",
      "You have entered 2 Turkish characters.\n",
      "You can't use Turkish characters in your pswd\n"
     ]
    }
   ],
   "source": [
    "######################################################################\n",
    "#See the effect when the indent of the second \"if\" is changed...\n",
    "i=0;tr_letters = \"şçöğüİı\"\n",
    "pswd = input(\"Your pwsd: \")\n",
    "for char in pswd:\n",
    "    if char in tr_letters:\n",
    "        i=i+1\n",
    "        if i>0:\n",
    "              print(\"You have entered {} Turkish characters.\\nYou can't use Turkish characters in your pswd\".format(i))\n",
    "#It becomes too bad now. Do you know why?\n",
    "#(Because the second if runs inside the first if due to \n",
    "#the indented position of the second \"if\")"
   ]
  },
  {
   "cell_type": "code",
   "execution_count": 10,
   "id": "2ecb384f",
   "metadata": {},
   "outputs": [
    {
     "name": "stdout",
     "output_type": "stream",
     "text": [
      "0 -->square:  0\n",
      "1\n",
      "2 -->square:  4\n",
      "3 -->cube:  27\n",
      "4 -->square:  16\n",
      "5\n",
      "6 -->square:  36\n",
      "7\n",
      "8 -->square:  64\n",
      "9 -->cube:  729\n"
     ]
    }
   ],
   "source": [
    "######################################################################\n",
    "\n",
    "#Evaluate the output of these commands in your mind first. Then run and see\n",
    "#whether your evaluation is correct or not.\n",
    "for i in range(10):\n",
    "    if i%2==0:\n",
    "        print(i,\"-->square: \",i*i)\n",
    "    elif i%3==0:\n",
    "        print(i,\"-->cube: \",pow(i,3))\n",
    "    else:\n",
    "        print (i)"
   ]
  },
  {
   "cell_type": "code",
   "execution_count": 11,
   "id": "b2c0070f",
   "metadata": {},
   "outputs": [
    {
     "name": "stdout",
     "output_type": "stream",
     "text": [
      "0\n",
      "1\n",
      "2 -->can be divided by 2\n",
      "3 -->can be divided by 3\n",
      "4 -->can be divided by 2\n",
      "5 -->can be divided by 5\n",
      "6 -->can be divided by 6: \n",
      "7\n",
      "8 -->can be divided by 2\n",
      "9 -->can be divided by 3\n",
      "10\n",
      "11\n",
      "12 -->can be divided by 6: \n",
      "13\n",
      "14 -->can be divided by 2\n",
      "15\n",
      "16 -->can be divided by 2\n",
      "17\n",
      "18 -->can be divided by 6: \n",
      "19\n"
     ]
    }
   ],
   "source": [
    "######################################################################\n",
    "#Now we want to find the multipliers of prime numbers for a given number, say 20... \n",
    "#See the following (as a starting point, to see the effect):\n",
    "for i in range(20):\n",
    "    if i%2==0 and i%3!=0 and i%5!=0:\n",
    "        print(i,\"-->can be divided by 2\")\n",
    "    elif i%2!=0 and i%3==0 and i%5!=0:\n",
    "        print(i,\"-->can be divided by 3\")\n",
    "    elif i%2 !=0 and i%3 !=0 and i%5==0:\n",
    "        print(i,\"-->can be divided by 5\")\n",
    "    elif i%2==0 and i%3==0 and i%5!=0:\n",
    "        print(i,\"-->can be divided by 6: \") \n",
    "    else:\n",
    "        print (i)    \n",
    "#Better but not so good..."
   ]
  },
  {
   "cell_type": "code",
   "execution_count": 12,
   "id": "98ade072",
   "metadata": {},
   "outputs": [
    {
     "name": "stdout",
     "output_type": "stream",
     "text": [
      "enter a number between 0 and 22: 21\n",
      "21 can be divided by: 2^0*3^1*5^0*7^1*11^0*13^0*17^0*19^0\n"
     ]
    }
   ],
   "source": [
    "######################################################################\n",
    "#Let's try the following:\n",
    "number=int(0);\n",
    "number=int(input(\"enter a number between 0 and 22: \"));two=0;three=0;five=0;seven=0;\n",
    "eleven=0;thirteen=0;seventeen=0;nineteen=0;\n",
    "num=number;\n",
    "while num%2==0: \n",
    "    num=num/2;two+=1\n",
    "while num%3==0:\n",
    "    num=num/3;three+=1;\n",
    "while num%5==0:\n",
    "    num=num/5;five+=1;\n",
    "while num%7==0:\n",
    "    num=num/7;seven+=1;\n",
    "while num%11==0:\n",
    "    num=num/11;eleven+=1;\n",
    "while num%13==0:\n",
    "    num=num/13;thirteen+=1;\n",
    "while num%17==0:\n",
    "    num=num/17;seventeen+=1;\n",
    "while num%19==0:\n",
    "    num=num/19;nineteen+=1;\n",
    "print(number,\"can be divided by: 2^{}*3^{}*5^{}*7^{}*11^{}*13^{}*17^{}*19^{}\".format(two,three,five,seven,eleven,thirteen,seventeen,nineteen)) \n",
    "   "
   ]
  },
  {
   "cell_type": "code",
   "execution_count": 13,
   "id": "e2021da8",
   "metadata": {},
   "outputs": [
    {
     "name": "stdout",
     "output_type": "stream",
     "text": [
      "enter a number between 0 and 22: 21\n",
      "21 can be divided by:  1*3^1*7^1\n"
     ]
    }
   ],
   "source": [
    "######################################################################\n",
    "#Now let's do somethng better in the final print command:\n",
    "number=int(0);\n",
    "number=int(input(\"enter a number between 0 and 22: \"));two=0;three=0;five=0;seven=0;\n",
    "eleven=0;thirteen=0;seventeen=0;nineteen=0;\n",
    "num=number;\n",
    "while num%2==0: \n",
    "    num=num/2;two+=1\n",
    "while num%3==0:\n",
    "    num=num/3;three+=1;\n",
    "while num%5==0:\n",
    "    num=num/5;five+=1;\n",
    "while num%7==0:\n",
    "    num=num/7;seven+=1;\n",
    "while num%11==0:\n",
    "    num=num/11;eleven+=1;\n",
    "while num%13==0:\n",
    "    num=num/13;thirteen+=1;\n",
    "while num%17==0:\n",
    "    num=num/17;seventeen+=1;\n",
    "while num%19==0:\n",
    "    num=num/19;nineteen+=1;\n",
    "str=\"\";del str;\n",
    "# Note: for numbers we use \"variable=None\"\n",
    "# but for strings: \"del string name\"\n",
    "str=\"1\"\n",
    "if two!=0:\n",
    "    str=str+\"*2^\"+\"%s\"%two\n",
    "if three!=0:\n",
    "    str=str+\"*3^\"+\"%s\"%three\n",
    "if five!=0:\n",
    "    str=str+\"*5^\"+\"%s\"%five\n",
    "if seven!=0:\n",
    "    str=str+\"*7^\"+\"%s\"%seven\n",
    "if eleven!=0:\n",
    "    str=str+\"*11^\"+\"%s\"%eleven \n",
    "if thirteen!=0:\n",
    "    str=str+\"*13^\"+\"%s\"%thirteen\n",
    "if seventeen!=0:\n",
    "    str=str+\"*17^\"+\"%s\"%seventeen\n",
    "if nineteen!=0:\n",
    "    str=str+\"*19^\"+\"%s\"%nineteen\n",
    "print(number,\"can be divided by: \", str)\n"
   ]
  },
  {
   "cell_type": "code",
   "execution_count": 15,
   "id": "6ddc40cd",
   "metadata": {},
   "outputs": [],
   "source": [
    "######################################################################    \n",
    "#Check whether a number is a prime number or not (Can you do it by using the codes above?)\n",
    "# https://www.stechies.com/python-prime-number/"
   ]
  },
  {
   "cell_type": "code",
   "execution_count": 17,
   "id": "4c63b294",
   "metadata": {},
   "outputs": [
    {
     "name": "stdout",
     "output_type": "stream",
     "text": [
      "Question: Find the positions of the elements that can be divided by 5\n"
     ]
    }
   ],
   "source": [
    "######################################################################\n",
    "#Now we have some nupy examples...\n",
    "# pip install numpy\n",
    "import numpy as np\n",
    "arr=np.array([[1,2,3,4,5],[6,7,8,9,10],[11,12,13,14,15],[16,17,18,19,20]])\n",
    "type(arr)\n",
    "len(arr)\n",
    "arr.shape\n",
    "print(\"Question: Find the positions of the elements that can be divided by 5\")\n",
    "#Let's do it..."
   ]
  },
  {
   "cell_type": "code",
   "execution_count": 18,
   "id": "581b7620",
   "metadata": {},
   "outputs": [
    {
     "name": "stdout",
     "output_type": "stream",
     "text": [
      "(4, 5)\n",
      "[4 5]\n",
      "1\n",
      "2\n",
      "3\n",
      "4\n",
      "5\n",
      "6\n",
      "7\n",
      "8\n",
      "9\n",
      "10\n",
      "11\n",
      "12\n",
      "13\n",
      "14\n",
      "15\n",
      "16\n",
      "17\n",
      "18\n",
      "19\n",
      "20\n"
     ]
    }
   ],
   "source": [
    "a=arr.shape\n",
    "b=np.array(a)\n",
    "type(a)\n",
    "type(b)\n",
    "print(a)\n",
    "print(b)  #See the difference between a and b\n",
    "b[0]\n",
    "for i in range(b[0]):\n",
    "    for j in range(b[1]):\n",
    "        print(arr[i,j])"
   ]
  },
  {
   "cell_type": "code",
   "execution_count": 19,
   "id": "f9909023",
   "metadata": {},
   "outputs": [
    {
     "name": "stdout",
     "output_type": "stream",
     "text": [
      "index: 0 4 -->element: 5\n",
      "index: 1 4 -->element: 10\n",
      "index: 2 4 -->element: 15\n",
      "index: 3 4 -->element: 20\n"
     ]
    }
   ],
   "source": [
    "######################################################################\n",
    "\n",
    "for i in range(b[0]):\n",
    "    for j in range(b[1]):\n",
    "        if arr[i,j]%5==0:\n",
    "           print(\"index:\",i,j,\"-->element:\",arr[i,j])"
   ]
  },
  {
   "cell_type": "code",
   "execution_count": 20,
   "id": "80f6983d",
   "metadata": {},
   "outputs": [
    {
     "name": "stdout",
     "output_type": "stream",
     "text": [
      "['Mehmet', 1, 2, 3, 4, 5, 'Ali']\n"
     ]
    }
   ],
   "source": [
    "####################################################################   \n",
    "#Let's now choose the diagonal elements and define it as an array\n",
    "#First learn this:\n",
    "data=[1,2,3,4,5,\"Ali\"]; xs = [\"Mehmet\"]\n",
    "for item in data:\n",
    "    xs.append(item)\n",
    "print (xs) "
   ]
  },
  {
   "cell_type": "code",
   "execution_count": 21,
   "id": "240e2b07",
   "metadata": {},
   "outputs": [
    {
     "name": "stdout",
     "output_type": "stream",
     "text": [
      "List after clear(): []\n"
     ]
    }
   ],
   "source": [
    "# Also this...\n",
    "prime_numbers = [2, 3, 5, 7, 9, 11]\n",
    "# remove all elements\n",
    "prime_numbers.clear()\n",
    "# Updated prime_numbers List\n",
    "print('List after clear():', prime_numbers)"
   ]
  },
  {
   "cell_type": "code",
   "execution_count": 22,
   "id": "b3d56291",
   "metadata": {},
   "outputs": [
    {
     "name": "stdout",
     "output_type": "stream",
     "text": [
      "[4 5]\n",
      "[[2.12199579e-314 4.67296746e-307]\n",
      " [7.13430793e-321 8.72140270e-312]]\n",
      "[]\n"
     ]
    }
   ],
   "source": [
    "#Also learn this...\n",
    "print(b)\n",
    "k=np.empty([2,2])\n",
    "print(k)\n",
    "# See: https://www.geeksforgeeks.org/numpy-empty-python/\n",
    "#Now let's use it...\n",
    "arr2=np.empty(shape=0)\n",
    "print(arr2)"
   ]
  },
  {
   "cell_type": "code",
   "execution_count": 23,
   "id": "8e4794b2",
   "metadata": {},
   "outputs": [
    {
     "name": "stdout",
     "output_type": "stream",
     "text": [
      "[4 5]\n",
      "diagonal elements:\n",
      " [ 1.  7. 13. 19.]\n"
     ]
    }
   ],
   "source": [
    "print(b)\n",
    "for i in range(b[0]):\n",
    "    for j in range(b[1]):\n",
    "       if i==j:\n",
    "          arr2=np.append(arr2,arr[i,j])\n",
    "print(\"diagonal elements:\\n\",arr2)"
   ]
  },
  {
   "cell_type": "code",
   "execution_count": 24,
   "id": "917dc7bd",
   "metadata": {},
   "outputs": [
    {
     "name": "stdout",
     "output_type": "stream",
     "text": [
      "[[ 1  2  3  4  5]\n",
      " [ 6  7  8  9 10]\n",
      " [11 12 13 14 15]\n",
      " [16 17 18 19 20]]\n"
     ]
    }
   ],
   "source": [
    "print(arr) "
   ]
  },
  {
   "cell_type": "code",
   "execution_count": 25,
   "id": "0feb5627",
   "metadata": {},
   "outputs": [],
   "source": [
    "# Also study this for sequences (not arrays!): https://kerteriz.net/python-diziler/\n",
    "# Also useful: https://makitweb.com/sequences-and-lists-in-python/\n",
    "# And: https://learnpython.com/blog/python-array-vs-list/\n",
    "# https://www.kodeclik.com/python-array-vs-list/\n",
    "# learn the difference between lists, sequences, and arrays...\n",
    "# https://en.wikibooks.org/wiki/Python_Programming/Sequences#:~:text=Sequences%20allow%20you%20to%20store,are%20containers%20for%20sequential%20data.\n",
    "# https://pythongeeks.org/python-sequences-types-examples/    \n"
   ]
  },
  {
   "cell_type": "code",
   "execution_count": null,
   "id": "d19546c5",
   "metadata": {},
   "outputs": [],
   "source": []
  }
 ],
 "metadata": {
  "kernelspec": {
   "display_name": "Python 3 (ipykernel)",
   "language": "python",
   "name": "python3"
  },
  "language_info": {
   "codemirror_mode": {
    "name": "ipython",
    "version": 3
   },
   "file_extension": ".py",
   "mimetype": "text/x-python",
   "name": "python",
   "nbconvert_exporter": "python",
   "pygments_lexer": "ipython3",
   "version": "3.9.13"
  }
 },
 "nbformat": 4,
 "nbformat_minor": 5
}
