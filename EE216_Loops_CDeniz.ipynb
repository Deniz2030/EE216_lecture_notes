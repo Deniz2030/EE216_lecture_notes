{
 "cells": [
  {
   "cell_type": "code",
   "execution_count": 2,
   "id": "855b8d40",
   "metadata": {},
   "outputs": [],
   "source": [
    "inp = \"(1) add \\n(2) subtract \\n(3) multiply \\n(4) divide \\n(5) square \\n(6) square root\\n(7) modulus\\nEnter q for quitting...\""
   ]
  },
  {
   "cell_type": "code",
   "execution_count": 2,
   "id": "7b6aabe5",
   "metadata": {},
   "outputs": [
    {
     "name": "stdout",
     "output_type": "stream",
     "text": [
      "(1) add \n",
      "(2) subtract \n",
      "(3) multiply \n",
      "(4) divide \n",
      "(5) square \n",
      "(6) square root\n",
      "(7) modulus\n",
      "Enter q for quitting...\n"
     ]
    }
   ],
   "source": [
    "print(inp)"
   ]
  },
  {
   "cell_type": "code",
   "execution_count": 3,
   "id": "9d1e36b3",
   "metadata": {},
   "outputs": [],
   "source": [
    "inp = \"\"\"\n",
    "(1) add\n",
    "(2) subtract\n",
    "(3) multiply\n",
    "(4) divide\n",
    "(5) square\n",
    "(6) square root\n",
    "(7) modulus\n",
    "Enter q for quitting...\n",
    "\"\"\""
   ]
  },
  {
   "cell_type": "code",
   "execution_count": 5,
   "id": "361e6532",
   "metadata": {},
   "outputs": [
    {
     "name": "stdout",
     "output_type": "stream",
     "text": [
      "\n",
      "(1) add\n",
      "(2) subtract\n",
      "(3) multiply\n",
      "(4) divide\n",
      "(5) square\n",
      "(6) square root\n",
      "(7) modulus\n",
      "Enter q for quitting...\n",
      "\n"
     ]
    }
   ],
   "source": [
    "print(inp)"
   ]
  },
  {
   "cell_type": "code",
   "execution_count": 11,
   "id": "0b183055",
   "metadata": {},
   "outputs": [
    {
     "name": "stdout",
     "output_type": "stream",
     "text": [
      "Enter a number:2\n"
     ]
    }
   ],
   "source": [
    "#Asking inputs from the user...\n",
    "var=input(\"Enter a number:\")"
   ]
  },
  {
   "cell_type": "code",
   "execution_count": 12,
   "id": "411ff9ae",
   "metadata": {},
   "outputs": [
    {
     "name": "stdout",
     "output_type": "stream",
     "text": [
      "2\n"
     ]
    }
   ],
   "source": [
    "print(var)"
   ]
  },
  {
   "cell_type": "code",
   "execution_count": 13,
   "id": "27766367",
   "metadata": {},
   "outputs": [
    {
     "name": "stdout",
     "output_type": "stream",
     "text": [
      "the number you entered is 2\n"
     ]
    }
   ],
   "source": [
    "print(\"the number you entered is\", var)"
   ]
  },
  {
   "cell_type": "code",
   "execution_count": null,
   "id": "c2004566",
   "metadata": {},
   "outputs": [
    {
     "name": "stdout",
     "output_type": "stream",
     "text": [
      "Enter the number of the operation you want: 9\n",
      "Wrong input.\n",
      "Enter one of the operations below: \n",
      "(1) add\n",
      "(2) subtract\n",
      "(3) multiply\n",
      "(4) divide\n",
      "(5) square\n",
      "(6) square root\n",
      "(7) modulus\n",
      "Enter q for quitting...\n",
      "\n",
      "Enter the number of the operation you want: 9\n",
      "Wrong input.\n",
      "Enter one of the operations below: \n",
      "(1) add\n",
      "(2) subtract\n",
      "(3) multiply\n",
      "(4) divide\n",
      "(5) square\n",
      "(6) square root\n",
      "(7) modulus\n",
      "Enter q for quitting...\n",
      "\n"
     ]
    }
   ],
   "source": [
    "#############################################################################\n",
    "while True:         # This command runs the rest of it forever unless it sees ,\n",
    "                    # the \"break\" command\n",
    "    operation = input(\"Enter the number of the operation you want: \")\n",
    "   \n",
    "    if operation == \"q\":\n",
    "        print(\"quitting...\")\n",
    "        break\n",
    "\n",
    "    elif operation== \"1\":\n",
    "         num1 = int(input(\"Enter the first number for addition: \"))\n",
    "         num2 = int(input(\"Enter the second number for addition: \"))\n",
    "         print(num1, \"+\", num2, \"=\", num1 + num2)\n",
    "\n",
    "    elif operation== \"2\":\n",
    "         num3 = int(input(\"Enter the first number for subtraction: \"))\n",
    "         num4 = int(input(\"Enter the second number for subtraction: \"))\n",
    "         print(num3, \"-\", num4, \"=\", num3 - num4)\n",
    "\n",
    "    elif operation == \"3\":\n",
    "         num5 = int(input(\"Enter the first number for multiplication: \"))\n",
    "         num6 = int(input(\"Enter the second number for multiplication: \"))\n",
    "         print(num5, \"x\", num6, \"=\", num5 * num6)\n",
    "\n",
    "    elif operation == \"4\":\n",
    "         num7 = int(input(\"Enter the first number for division:  \"))\n",
    "         num8 = int(input(\"Enter the second number for division: \"))\n",
    "         print(num7, \"/\", num8, \"=\", num7 / num8)\n",
    "\n",
    "    elif operation== \"5\":\n",
    "         num9 = int(input(\"Enter the number whose square will be calculated: \"))\n",
    "         print(\"Square of \", num9, \" = \", num9 ** 2)\n",
    "\n",
    "    elif operation == \"6\":\n",
    "         num10 = int(input(\"Enter the number whose square-root will be calculated: \"))\n",
    "         print(\"Square-root of \", num10, \" = \", num10 ** 0.5)\n",
    "    elif operation == \"7\":\n",
    "          num11 = int(input(\"Enter the first number for calculation of modulus: \"))\n",
    "          num12 = int(input(\"Enter the second number for calculation of modulus: \"))\n",
    "          print(\"modulus of \", num11, \" and \", num12, \"=\", num11 % num12)\n",
    "\n",
    "    else:\n",
    "         print(\"Wrong input.\")\n",
    "         print(\"Enter one of the operations below:\", inp)\n",
    "        "
   ]
  },
  {
   "cell_type": "code",
   "execution_count": 1,
   "id": "c31de0e6",
   "metadata": {},
   "outputs": [
    {
     "name": "stdout",
     "output_type": "stream",
     "text": [
      "2\n",
      "4\n",
      "6\n",
      "8\n",
      "10\n",
      "12\n",
      "14\n",
      "16\n",
      "18\n",
      "20\n",
      "22\n",
      "24\n",
      "26\n",
      "28\n",
      "30\n"
     ]
    }
   ],
   "source": [
    "#############################################################################\n",
    "# An example for \"while\" loop\n",
    "a = 0\n",
    "while a < 30:\n",
    "    a += 1\n",
    "    if a % 2 == 0: # here % is modulus operator\n",
    "        print(a)  \n",
    "# See the full list of Python arithmetic operators here: https://www.w3schools.com/python/python_operators.asp"
   ]
  },
  {
   "cell_type": "code",
   "execution_count": 3,
   "id": "21147a14",
   "metadata": {},
   "outputs": [
    {
     "name": "stdout",
     "output_type": "stream",
     "text": [
      "repeat:  1\n",
      "How are you, are you fine? (0 or 1): 0\n",
      "bool result of answer:  False\n",
      "bool result of index:  True\n",
      "repeat:  2\n",
      "How are you, are you fine? (0 or 1): 1\n",
      "bool result of answer:  True\n",
      "bool result of index:  True\n",
      "repeat:  3\n",
      "How are you, are you fine? (0 or 1): 1\n",
      "bool result of answer:  True\n",
      "bool result of index:  False\n"
     ]
    },
    {
     "data": {
      "text/plain": [
       "True"
      ]
     },
     "execution_count": 3,
     "metadata": {},
     "output_type": "execute_result"
    }
   ],
   "source": [
    "#############################################################################\n",
    "# Here is another example\n",
    "repeat = 1\n",
    "while repeat <= 3:\n",
    "    print(\"repeat: \", repeat)\n",
    "    repeat += 1\n",
    "    a=input(\"How are you, are you fine? (0 or 1): \")\n",
    "    print(\"bool result of answer: \", bool(int(a)))\n",
    "    print(\"bool result of index: \", bool(repeat <= 3))      \n",
    "\n",
    "bool(1)"
   ]
  },
  {
   "cell_type": "code",
   "execution_count": 4,
   "id": "883778f4",
   "metadata": {},
   "outputs": [
    {
     "name": "stdout",
     "output_type": "stream",
     "text": [
      "ş\n",
      "ç\n",
      "ö\n",
      "ğ\n",
      "ü\n",
      "İ\n",
      "ı\n"
     ]
    }
   ],
   "source": [
    "#############################################################################\n",
    "#Now we learn \"for\" loop\n",
    "\n",
    "tr_letters = \"şçöğüİı\"\n",
    "\n",
    "for letter in tr_letters:\n",
    "    print(letter)"
   ]
  },
  {
   "cell_type": "code",
   "execution_count": 6,
   "id": "aed6eed7",
   "metadata": {},
   "outputs": [
    {
     "name": "stdout",
     "output_type": "stream",
     "text": [
      "Your pwsd: 123\n"
     ]
    }
   ],
   "source": [
    "############################################################################\n",
    "#tr_letters = \"şçöğüİı\"   # Now another example...\n",
    "\n",
    "pswd = input(\"Your pwsd: \")\n",
    "\n",
    "for char in pswd:\n",
    "    if char in tr_letters:\n",
    "        print(\"You can't use Turkish characters in your pswd\")"
   ]
  },
  {
   "cell_type": "code",
   "execution_count": 9,
   "id": "71a7038a",
   "metadata": {},
   "outputs": [
    {
     "name": "stdout",
     "output_type": "stream",
     "text": [
      "Determine your pswd: 456,\n",
      "Your pswd should have a length between 3 and 8 characters 456,\n"
     ]
    }
   ],
   "source": [
    "#############################################################################\n",
    "#Another \"for loop\" example her...\n",
    "for i in range(3):\n",
    "    pswd = input(\"Determine your pswd: \")\n",
    "    if not pswd:\n",
    "        print(\"You have to determine your paswd!\")\n",
    "\n",
    "    elif len(pswd) in range(3, 8):\n",
    "        print(\"Your pswd should have a length between 3 and 8 characters\", pswd)\n",
    "        break\n",
    "\n",
    "    elif i == 2:\n",
    "        print(\"You entered invalid pswd in 3 times.\",\n",
    "        \"Please try again 30 minutes later!\")\n",
    "\n",
    "    else:\n",
    "        print(\"Pswd should not be more than 8 and less than 3 characters...\")"
   ]
  },
  {
   "cell_type": "code",
   "execution_count": 10,
   "id": "ecac379d",
   "metadata": {},
   "outputs": [
    {
     "name": "stdout",
     "output_type": "stream",
     "text": [
      "0\n",
      "2\n",
      "4\n",
      "6\n",
      "8\n"
     ]
    }
   ],
   "source": [
    "#############################################################################\n",
    "for i in range(0, 10, 2):\n",
    "    print(i)"
   ]
  },
  {
   "cell_type": "code",
   "execution_count": 11,
   "id": "eb3c9552",
   "metadata": {},
   "outputs": [
    {
     "name": "stdout",
     "output_type": "stream",
     "text": [
      "10\n",
      "9\n",
      "8\n",
      "7\n",
      "6\n",
      "5\n",
      "4\n",
      "3\n",
      "2\n",
      "1\n"
     ]
    }
   ],
   "source": [
    "#############################################################################\n",
    "\n",
    "for i in range(10, 0, -1):\n",
    "    print(i)\n",
    "    "
   ]
  },
  {
   "cell_type": "code",
   "execution_count": 12,
   "id": "cd3bd138",
   "metadata": {},
   "outputs": [
    {
     "name": "stdout",
     "output_type": "stream",
     "text": [
      "Please determine your pswd: 4\n",
      "Pswd should not be less than 5 characters!\n",
      "Please determine your pswd: 123456\n",
      "Your pswd has been accepted!\n"
     ]
    }
   ],
   "source": [
    "#############################################################################\n",
    "while True:\n",
    "    pswd= input(\"Please determine your pswd: \")\n",
    "    if len(pswd) < 5:\n",
    "        print(\"Pswd should not be less than 5 characters!\")\n",
    "    else:\n",
    "        print(\"Your pswd has been accepted!\")\n",
    "        break"
   ]
  },
  {
   "cell_type": "code",
   "execution_count": 14,
   "id": "a0b67e60",
   "metadata": {},
   "outputs": [
    {
     "name": "stdout",
     "output_type": "stream",
     "text": [
      "Enter a number (or q for quit): 3456\n",
      "You can enter a number with maximum 3 digits.\n",
      "Enter a number (or q for quit): 12\n",
      "Enter a number (or q for quit): 4\n",
      "Enter a number (or q for quit): 45\n",
      "Enter a number (or q for quit): 55\n",
      "Enter a number (or q for quit): 12345\n",
      "You can enter a number with maximum 3 digits.\n",
      "Enter a number (or q for quit): q\n"
     ]
    }
   ],
   "source": [
    "#############################################################################\n",
    "while True:\n",
    "    s = input(\"Enter a number (or q for quit): \")\n",
    "    if s == \"q\":\n",
    "        break\n",
    "\n",
    "    if len(s) <= 3:\n",
    "        continue\n",
    "\n",
    "    print(\"You can enter a number with maximum 3 digits.\")\n",
    "    "
   ]
  },
  {
   "cell_type": "code",
   "execution_count": 1,
   "id": "426851de",
   "metadata": {
    "scrolled": true
   },
   "outputs": [
    {
     "name": "stdout",
     "output_type": "stream",
     "text": [
      "C:\\Users\\LENOVO\n"
     ]
    }
   ],
   "source": [
    "import os\n",
    "mydir = os.getcwd()  #getcwd() returns current working directory of a process.\n",
    "print(mydir)\n"
   ]
  },
  {
   "cell_type": "code",
   "execution_count": 5,
   "id": "25c84fc0",
   "metadata": {},
   "outputs": [
    {
     "ename": "FileNotFoundError",
     "evalue": "[WinError 3] The system cannot find the path specified: 'C:\\\\Users\\\\LENOVO\\\\Git_projects\\\\EE216_lecture_notes\\\\Git_projects\\\\EE216_lecture_notes'",
     "output_type": "error",
     "traceback": [
      "\u001b[1;31m---------------------------------------------------------------------------\u001b[0m",
      "\u001b[1;31mFileNotFoundError\u001b[0m                         Traceback (most recent call last)",
      "\u001b[1;32m~\\AppData\\Local\\Temp\\ipykernel_30288\\3628756884.py\u001b[0m in \u001b[0;36m<module>\u001b[1;34m\u001b[0m\n\u001b[0;32m      1\u001b[0m \u001b[1;31m# Don't run these commands if the current directory is already correct...\u001b[0m\u001b[1;33m\u001b[0m\u001b[1;33m\u001b[0m\u001b[0m\n\u001b[1;32m----> 2\u001b[1;33m \u001b[0mmydir_new\u001b[0m \u001b[1;33m=\u001b[0m \u001b[0mos\u001b[0m\u001b[1;33m.\u001b[0m\u001b[0mchdir\u001b[0m\u001b[1;33m(\u001b[0m\u001b[0mmydir\u001b[0m\u001b[1;33m+\u001b[0m\u001b[1;34m\"\\\\Git_projects\\\\EE216_lecture_notes\"\u001b[0m\u001b[1;33m)\u001b[0m   \u001b[1;31m# To change your current directory we do this\u001b[0m\u001b[1;33m\u001b[0m\u001b[1;33m\u001b[0m\u001b[0m\n\u001b[0m\u001b[0;32m      3\u001b[0m \u001b[1;31m#-your path should be correct with \"mydir\"\u001b[0m\u001b[1;33m\u001b[0m\u001b[1;33m\u001b[0m\u001b[0m\n\u001b[0;32m      4\u001b[0m \u001b[0mmydir\u001b[0m \u001b[1;33m=\u001b[0m \u001b[0mos\u001b[0m\u001b[1;33m.\u001b[0m\u001b[0mgetcwd\u001b[0m\u001b[1;33m(\u001b[0m\u001b[1;33m)\u001b[0m  \u001b[1;31m# Now see your current directory /after we changed!)\u001b[0m\u001b[1;33m\u001b[0m\u001b[1;33m\u001b[0m\u001b[0m\n",
      "\u001b[1;31mFileNotFoundError\u001b[0m: [WinError 3] The system cannot find the path specified: 'C:\\\\Users\\\\LENOVO\\\\Git_projects\\\\EE216_lecture_notes\\\\Git_projects\\\\EE216_lecture_notes'"
     ]
    }
   ],
   "source": [
    "# Don't run these commands if the current directory is already correct...\n",
    "mydir_new = os.chdir(mydir+\"\\\\Git_projects\\\\EE216_lecture_notes\")   # To change your current directory we do this\n",
    "#-your path should be correct with \"mydir\"\n",
    "mydir = os.getcwd()  # Now see your current directory /after we changed!)"
   ]
  },
  {
   "cell_type": "code",
   "execution_count": 12,
   "id": "db823940",
   "metadata": {},
   "outputs": [
    {
     "name": "stdout",
     "output_type": "stream",
     "text": [
      "Sorted array is:\n",
      " 11  12  22  25  34  64  90 "
     ]
    }
   ],
   "source": [
    "%run BubbleSort.py  # This python file should be inside the current directory..."
   ]
  },
  {
   "cell_type": "code",
   "execution_count": null,
   "id": "f3fd4f8b",
   "metadata": {},
   "outputs": [],
   "source": []
  }
 ],
 "metadata": {
  "kernelspec": {
   "display_name": "Python 3 (ipykernel)",
   "language": "python",
   "name": "python3"
  },
  "language_info": {
   "codemirror_mode": {
    "name": "ipython",
    "version": 3
   },
   "file_extension": ".py",
   "mimetype": "text/x-python",
   "name": "python",
   "nbconvert_exporter": "python",
   "pygments_lexer": "ipython3",
   "version": "3.9.13"
  }
 },
 "nbformat": 4,
 "nbformat_minor": 5
}
