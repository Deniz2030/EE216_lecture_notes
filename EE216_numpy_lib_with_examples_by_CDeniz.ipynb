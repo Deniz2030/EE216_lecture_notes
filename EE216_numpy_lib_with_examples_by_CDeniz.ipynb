{
 "cells": [
  {
   "cell_type": "code",
   "execution_count": 1,
   "id": "39f4c964",
   "metadata": {},
   "outputs": [],
   "source": [
    "import numpy as np"
   ]
  },
  {
   "cell_type": "code",
   "execution_count": 2,
   "id": "bc1cc109",
   "metadata": {},
   "outputs": [
    {
     "name": "stdout",
     "output_type": "stream",
     "text": [
      "<class 'list'>\n",
      "[1, 1.3, 2, 3, 5, 7, 9.4, 'Ali']\n"
     ]
    }
   ],
   "source": [
    "alist=[1,1.3,2,3,5,7,9.4,'Ali'] #define a python list\n",
    "print(type(alist))\n",
    "print(alist)"
   ]
  },
  {
   "cell_type": "code",
   "execution_count": 3,
   "id": "cbc00f4c",
   "metadata": {},
   "outputs": [],
   "source": [
    "a1=np.array([1,2.3,4,5,8.9])"
   ]
  },
  {
   "cell_type": "code",
   "execution_count": 4,
   "id": "fa3c9ce6",
   "metadata": {},
   "outputs": [
    {
     "name": "stdout",
     "output_type": "stream",
     "text": [
      "<class 'numpy.ndarray'>\n"
     ]
    }
   ],
   "source": [
    "print(type(a1)) #define a numpy array"
   ]
  },
  {
   "cell_type": "code",
   "execution_count": 5,
   "id": "46a18269",
   "metadata": {},
   "outputs": [
    {
     "name": "stdout",
     "output_type": "stream",
     "text": [
      "Array is of type:  <class 'numpy.ndarray'>\n"
     ]
    }
   ],
   "source": [
    "print(\"Array is of type: \", type(a1))"
   ]
  },
  {
   "cell_type": "code",
   "execution_count": 6,
   "id": "ba7fab69",
   "metadata": {},
   "outputs": [
    {
     "name": "stdout",
     "output_type": "stream",
     "text": [
      "Our np-rray is:  [1.  2.3 4.  5.  8.9]\n"
     ]
    }
   ],
   "source": [
    "print(\"Our np-rray is: \", a1)"
   ]
  },
  {
   "cell_type": "code",
   "execution_count": 19,
   "id": "c77cb241",
   "metadata": {},
   "outputs": [],
   "source": [
    "a2=np.array([[1],[2],[3],[4],[5],[8.9]]) #define a numpy array in 1D (column matrix)"
   ]
  },
  {
   "cell_type": "code",
   "execution_count": 20,
   "id": "54439caf",
   "metadata": {},
   "outputs": [
    {
     "name": "stdout",
     "output_type": "stream",
     "text": [
      "[[1. ]\n",
      " [2. ]\n",
      " [3. ]\n",
      " [4. ]\n",
      " [5. ]\n",
      " [8.9]]\n"
     ]
    }
   ],
   "source": [
    "print(a2)"
   ]
  },
  {
   "cell_type": "code",
   "execution_count": 21,
   "id": "b1736d1a",
   "metadata": {},
   "outputs": [],
   "source": [
    "a3=np.array([[1,2,3],[4,5,6],[7,8,9],[10,11,12]]) #define a numpy array (a 4 by 3 matrix)"
   ]
  },
  {
   "cell_type": "code",
   "execution_count": 10,
   "id": "92bc7102",
   "metadata": {},
   "outputs": [
    {
     "name": "stdout",
     "output_type": "stream",
     "text": [
      "[[ 1  2  3]\n",
      " [ 4  5  6]\n",
      " [ 7  8  9]\n",
      " [10 11 12]]\n"
     ]
    }
   ],
   "source": [
    "print(a3)"
   ]
  },
  {
   "cell_type": "code",
   "execution_count": 27,
   "id": "aeae2d2b",
   "metadata": {},
   "outputs": [],
   "source": [
    "a4=np.eye(5, 5,  0, dtype = float)"
   ]
  },
  {
   "cell_type": "code",
   "execution_count": 28,
   "id": "5c88840a",
   "metadata": {},
   "outputs": [
    {
     "name": "stdout",
     "output_type": "stream",
     "text": [
      "[[1. 0. 0. 0. 0.]\n",
      " [0. 1. 0. 0. 0.]\n",
      " [0. 0. 1. 0. 0.]\n",
      " [0. 0. 0. 1. 0.]\n",
      " [0. 0. 0. 0. 1.]]\n"
     ]
    }
   ],
   "source": [
    "print(a4)"
   ]
  },
  {
   "cell_type": "code",
   "execution_count": 29,
   "id": "8299026b",
   "metadata": {},
   "outputs": [],
   "source": [
    "a5=np.eye(5, 5,  -1, dtype = float)"
   ]
  },
  {
   "cell_type": "code",
   "execution_count": 30,
   "id": "da6d193a",
   "metadata": {},
   "outputs": [
    {
     "name": "stdout",
     "output_type": "stream",
     "text": [
      "[[0. 0. 0. 0. 0.]\n",
      " [1. 0. 0. 0. 0.]\n",
      " [0. 1. 0. 0. 0.]\n",
      " [0. 0. 1. 0. 0.]\n",
      " [0. 0. 0. 1. 0.]]\n"
     ]
    }
   ],
   "source": [
    "print(a5)"
   ]
  },
  {
   "cell_type": "code",
   "execution_count": 31,
   "id": "37646e51",
   "metadata": {},
   "outputs": [],
   "source": [
    "a6=np.eye(5, 5,  -3, dtype = float)"
   ]
  },
  {
   "cell_type": "code",
   "execution_count": 16,
   "id": "cd90d3ef",
   "metadata": {},
   "outputs": [
    {
     "name": "stdout",
     "output_type": "stream",
     "text": [
      "[[0. 0. 0. 0. 0.]\n",
      " [0. 0. 0. 0. 0.]\n",
      " [0. 0. 0. 0. 0.]\n",
      " [1. 0. 0. 0. 0.]\n",
      " [0. 1. 0. 0. 0.]]\n"
     ]
    }
   ],
   "source": [
    "print(a6)"
   ]
  },
  {
   "cell_type": "code",
   "execution_count": 32,
   "id": "502d9d98",
   "metadata": {},
   "outputs": [],
   "source": [
    "a7=np.array([1,2,3, 0], dtype = 'float64') #another example for array construction in real elements"
   ]
  },
  {
   "cell_type": "code",
   "execution_count": 33,
   "id": "514defbd",
   "metadata": {},
   "outputs": [
    {
     "name": "stdout",
     "output_type": "stream",
     "text": [
      "[1. 2. 3. 0.]\n"
     ]
    }
   ],
   "source": [
    "print(a7)"
   ]
  },
  {
   "cell_type": "code",
   "execution_count": 34,
   "id": "6d557916",
   "metadata": {},
   "outputs": [
    {
     "name": "stdout",
     "output_type": "stream",
     "text": [
      "[1. 2. 3. 0.]\n"
     ]
    }
   ],
   "source": [
    "a8=np.array([1.2,2.,3.7, 0.5], dtype = 'int16') #another example for array construction in integer elements\n",
    "print(a7)"
   ]
  },
  {
   "cell_type": "code",
   "execution_count": 35,
   "id": "2b17afcc",
   "metadata": {},
   "outputs": [
    {
     "name": "stdout",
     "output_type": "stream",
     "text": [
      "[0. 0. 0. 0. 0. 0. 0. 0. 0. 0.]\n"
     ]
    }
   ],
   "source": [
    "a9=np.zeros(10);print(a9)  #construct a zero raw matrix (row involves 10 columns)"
   ]
  },
  {
   "cell_type": "code",
   "execution_count": 36,
   "id": "5fe70ff8",
   "metadata": {},
   "outputs": [
    {
     "name": "stdout",
     "output_type": "stream",
     "text": [
      "[[0. 0. 0.]\n",
      " [0. 0. 0.]\n",
      " [0. 0. 0.]\n",
      " [0. 0. 0.]]\n"
     ]
    }
   ],
   "source": [
    "a10=np.zeros([4,3]);print(a10)  #construct a zero 4 by 3 matrix"
   ]
  },
  {
   "cell_type": "code",
   "execution_count": 37,
   "id": "2542ac83",
   "metadata": {},
   "outputs": [
    {
     "name": "stdout",
     "output_type": "stream",
     "text": [
      "[7 7 7 7 7 7 7 7]\n"
     ]
    }
   ],
   "source": [
    "a11=np.full(8,7);print(a11) #construct a full raw matrix (row involves 8 columns with elements 7)"
   ]
  },
  {
   "cell_type": "code",
   "execution_count": 38,
   "id": "77e697c5",
   "metadata": {},
   "outputs": [
    {
     "name": "stdout",
     "output_type": "stream",
     "text": [
      "[7. 7. 7. 7. 7. 7. 7. 7.]\n"
     ]
    }
   ],
   "source": [
    "a12=np.full(8,7,dtype = 'float64');print(a12) #Now in real elements"
   ]
  },
  {
   "cell_type": "code",
   "execution_count": 39,
   "id": "adaf116c",
   "metadata": {},
   "outputs": [
    {
     "name": "stdout",
     "output_type": "stream",
     "text": [
      "[[7 7 7]\n",
      " [7 7 7]\n",
      " [7 7 7]\n",
      " [7 7 7]]\n"
     ]
    }
   ],
   "source": [
    "a13=np.full([4,3],7);print(a13) #construct a full 4 by 3 matrix (with elements 7)"
   ]
  },
  {
   "cell_type": "code",
   "execution_count": 40,
   "id": "1eab7b04",
   "metadata": {},
   "outputs": [
    {
     "data": {
      "text/plain": [
       "array([0, 1, 2, 3, 4, 5, 6, 7, 8, 9])"
      ]
     },
     "execution_count": 40,
     "metadata": {},
     "output_type": "execute_result"
    }
   ],
   "source": [
    "#Now some matrix constructions with specific arrangements#\n",
    "np.arange(10)"
   ]
  },
  {
   "cell_type": "code",
   "execution_count": 41,
   "id": "4ccec7b7",
   "metadata": {},
   "outputs": [
    {
     "name": "stdout",
     "output_type": "stream",
     "text": [
      "[0 2 4 6 8]\n"
     ]
    }
   ],
   "source": [
    "a14=np.arange(0,10,2);print(a14)  #array-arrange starting from 0 up to 10 by 2 increments"
   ]
  },
  {
   "cell_type": "code",
   "execution_count": 42,
   "id": "25a535a3",
   "metadata": {},
   "outputs": [
    {
     "name": "stdout",
     "output_type": "stream",
     "text": [
      "[ 0.   0.5  1.   1.5  2.   2.5  3.   3.5  4.   4.5  5.   5.5  6.   6.5\n",
      "  7.   7.5  8.   8.5  9.   9.5 10. ]\n"
     ]
    }
   ],
   "source": [
    "a15=np.linspace(0,10,21);print(a15)  #linear space starting from 0 up to 10 with a total of 21 elements"
   ]
  },
  {
   "cell_type": "code",
   "execution_count": 43,
   "id": "6649aa66",
   "metadata": {},
   "outputs": [
    {
     "name": "stdout",
     "output_type": "stream",
     "text": [
      "[[0.18523859 0.45349927 0.08264277 0.48721704]\n",
      " [0.5117228  0.57597001 0.96327184 0.73978054]\n",
      " [0.12438975 0.96111713 0.11980197 0.10633012]]\n"
     ]
    }
   ],
   "source": [
    "a16=np.random.random((3,4));print(a16)  #costruct a 3 by 4 random matrix. \n",
    "#Note that default definition of random values are between 0 and 1###"
   ]
  },
  {
   "cell_type": "code",
   "execution_count": 44,
   "id": "1f81de7f",
   "metadata": {},
   "outputs": [
    {
     "name": "stdout",
     "output_type": "stream",
     "text": [
      "[13 11 12 13 17 19 11 13 16 12 16 13 19 15 18]\n"
     ]
    }
   ],
   "source": [
    "a17=np.random.randint(10,20,15);print(a17) #Now define random integer of 15-element row matrix \n",
    "#with elements between 10 and 20-1=19. Note that last value=20 is not included"
   ]
  },
  {
   "cell_type": "code",
   "execution_count": 45,
   "id": "565af829",
   "metadata": {},
   "outputs": [
    {
     "data": {
      "text/plain": [
       "array([[14, 12, 11, 11, 18, 15],\n",
       "       [19, 12, 19, 15, 15, 13],\n",
       "       [10, 10, 10, 11, 14, 10],\n",
       "       [16, 12, 14, 13, 17, 12],\n",
       "       [16, 12, 16, 12, 14, 18]])"
      ]
     },
     "execution_count": 45,
     "metadata": {},
     "output_type": "execute_result"
    }
   ],
   "source": [
    "a18=np.random.randint(10,20,[5,6]);a18  # Now the same but in a 5 by 6 matrix\n",
    "#let's see the shape and dimension of it"
   ]
  },
  {
   "cell_type": "code",
   "execution_count": 46,
   "id": "7b55bacb",
   "metadata": {},
   "outputs": [
    {
     "data": {
      "text/plain": [
       "(5, 6)"
      ]
     },
     "execution_count": 46,
     "metadata": {},
     "output_type": "execute_result"
    }
   ],
   "source": [
    "a18.shape     #it's a 5 by 6 matrix"
   ]
  },
  {
   "cell_type": "code",
   "execution_count": 47,
   "id": "51d72480",
   "metadata": {},
   "outputs": [
    {
     "data": {
      "text/plain": [
       "2"
      ]
     },
     "execution_count": 47,
     "metadata": {},
     "output_type": "execute_result"
    }
   ],
   "source": [
    "a18.ndim      # it is in 2D\n",
    "#diagonal matrix again (a review with examples)"
   ]
  },
  {
   "cell_type": "code",
   "execution_count": 48,
   "id": "1be6f37e",
   "metadata": {},
   "outputs": [
    {
     "data": {
      "text/plain": [
       "array([[1., 0., 0., 0.],\n",
       "       [0., 1., 0., 0.],\n",
       "       [0., 0., 1., 0.],\n",
       "       [0., 0., 0., 1.],\n",
       "       [0., 0., 0., 0.]])"
      ]
     },
     "execution_count": 48,
     "metadata": {},
     "output_type": "execute_result"
    }
   ],
   "source": [
    "a19=np.eye(5,4);a19"
   ]
  },
  {
   "cell_type": "code",
   "execution_count": 49,
   "id": "23bddbed",
   "metadata": {},
   "outputs": [
    {
     "data": {
      "text/plain": [
       "array([[0., 0., 0., 0.],\n",
       "       [0., 0., 0., 0.],\n",
       "       [1., 0., 0., 0.],\n",
       "       [0., 1., 0., 0.],\n",
       "       [0., 0., 1., 0.]])"
      ]
     },
     "execution_count": 49,
     "metadata": {},
     "output_type": "execute_result"
    }
   ],
   "source": [
    "a20=np.eye(5,4,-2);a20  #negative sign in -2 indicates row-wise shift (lower-diagonal)"
   ]
  },
  {
   "cell_type": "code",
   "execution_count": 50,
   "id": "189767b2",
   "metadata": {},
   "outputs": [
    {
     "data": {
      "text/plain": [
       "array([[1., 0., 0., 0., 0.],\n",
       "       [0., 1., 0., 0., 0.],\n",
       "       [0., 0., 1., 0., 0.],\n",
       "       [0., 0., 0., 1., 0.],\n",
       "       [0., 0., 0., 0., 1.]])"
      ]
     },
     "execution_count": 50,
     "metadata": {},
     "output_type": "execute_result"
    }
   ],
   "source": [
    "a21=np.eye(5,5);a21"
   ]
  },
  {
   "cell_type": "code",
   "execution_count": 51,
   "id": "889066e0",
   "metadata": {},
   "outputs": [
    {
     "data": {
      "text/plain": [
       "array([[0., 1., 0., 0., 0.],\n",
       "       [0., 0., 1., 0., 0.],\n",
       "       [0., 0., 0., 1., 0.],\n",
       "       [0., 0., 0., 0., 1.],\n",
       "       [0., 0., 0., 0., 0.]])"
      ]
     },
     "execution_count": 51,
     "metadata": {},
     "output_type": "execute_result"
    }
   ],
   "source": [
    "a22=np.eye(5,5,1);a22 #positive sign in +1 indicates column-wise shift (upper-diagonal)\n",
    "#See https://www.geeksforgeeks.org/numpy-eye-python/  for detailed explanation"
   ]
  },
  {
   "cell_type": "code",
   "execution_count": 52,
   "id": "da475c00",
   "metadata": {},
   "outputs": [
    {
     "data": {
      "text/plain": [
       "array([ 1,  3,  5,  7,  9, 11, 13, 15, 17, 19, 21, 23, 25, 27, 29])"
      ]
     },
     "execution_count": 52,
     "metadata": {},
     "output_type": "execute_result"
    }
   ],
   "source": [
    "#Now selections of parts of constructed matrices... (very important)...\n",
    "a23=np.arange(1,30,2);a23 #construct our row array first"
   ]
  },
  {
   "cell_type": "code",
   "execution_count": 53,
   "id": "63b9684f",
   "metadata": {},
   "outputs": [
    {
     "data": {
      "text/plain": [
       "array([1, 3, 5, 7, 9])"
      ]
     },
     "execution_count": 53,
     "metadata": {},
     "output_type": "execute_result"
    }
   ],
   "source": [
    "a24=a23[0:5:1];a24 #We select i=0 and j=5th element (indices start from 0 not from 1, \n",
    "# and the 5th element is not included !!!!)"
   ]
  },
  {
   "cell_type": "code",
   "execution_count": 54,
   "id": "e5001c33",
   "metadata": {},
   "outputs": [
    {
     "data": {
      "text/plain": [
       "array([1, 5, 9])"
      ]
     },
     "execution_count": 54,
     "metadata": {},
     "output_type": "execute_result"
    }
   ],
   "source": [
    "a25=a23[0:5:2];a25"
   ]
  },
  {
   "cell_type": "code",
   "execution_count": 55,
   "id": "24c70b36",
   "metadata": {},
   "outputs": [
    {
     "data": {
      "text/plain": [
       "array([ 1,  3,  5,  7,  9, 11, 13, 15, 17, 19, 21, 23, 25, 27, 29])"
      ]
     },
     "execution_count": 55,
     "metadata": {},
     "output_type": "execute_result"
    }
   ],
   "source": [
    "a26=a23[0::1];a26"
   ]
  },
  {
   "cell_type": "code",
   "execution_count": 56,
   "id": "56667e0a",
   "metadata": {},
   "outputs": [
    {
     "data": {
      "text/plain": [
       "array([ 1,  3,  5,  7,  9, 11])"
      ]
     },
     "execution_count": 56,
     "metadata": {},
     "output_type": "execute_result"
    }
   ],
   "source": [
    "a27=a23[:6:1];a27"
   ]
  },
  {
   "cell_type": "code",
   "execution_count": 57,
   "id": "80f98d06",
   "metadata": {},
   "outputs": [
    {
     "data": {
      "text/plain": [
       "array([29, 27, 25, 23, 21, 19, 17, 15, 13, 11,  9,  7,  5,  3,  1])"
      ]
     },
     "execution_count": 57,
     "metadata": {},
     "output_type": "execute_result"
    }
   ],
   "source": [
    "a28=a23[::-1];a28"
   ]
  },
  {
   "cell_type": "code",
   "execution_count": 58,
   "id": "66d08b3f",
   "metadata": {},
   "outputs": [
    {
     "data": {
      "text/plain": [
       "array([29, 27, 25, 23, 21, 19, 17, 15])"
      ]
     },
     "execution_count": 58,
     "metadata": {},
     "output_type": "execute_result"
    }
   ],
   "source": [
    "a29=a23[:6:-1];a29   #i1 indicates reverse order from right to he left"
   ]
  },
  {
   "cell_type": "code",
   "execution_count": 59,
   "id": "0493fae2",
   "metadata": {},
   "outputs": [
    {
     "data": {
      "text/plain": [
       "array([29, 25, 21, 17])"
      ]
     },
     "execution_count": 59,
     "metadata": {},
     "output_type": "execute_result"
    }
   ],
   "source": [
    "a30=a23[:6:-2];a30"
   ]
  },
  {
   "cell_type": "code",
   "execution_count": 60,
   "id": "b52a4a45",
   "metadata": {},
   "outputs": [
    {
     "data": {
      "text/plain": [
       "array([[ 1],\n",
       "       [ 3],\n",
       "       [ 5],\n",
       "       [ 7],\n",
       "       [ 9],\n",
       "       [11],\n",
       "       [13],\n",
       "       [15],\n",
       "       [17],\n",
       "       [19],\n",
       "       [21],\n",
       "       [23],\n",
       "       [25],\n",
       "       [27],\n",
       "       [29]])"
      ]
     },
     "execution_count": 60,
     "metadata": {},
     "output_type": "execute_result"
    }
   ],
   "source": [
    "#Let's now do it for the column matrises\n",
    "a31=np.array([np.arange(1,30,2)]).transpose();a31 #construct our column array first"
   ]
  },
  {
   "cell_type": "code",
   "execution_count": 61,
   "id": "0be3cb70",
   "metadata": {},
   "outputs": [
    {
     "data": {
      "text/plain": [
       "array([[1],\n",
       "       [3],\n",
       "       [5],\n",
       "       [7],\n",
       "       [9]])"
      ]
     },
     "execution_count": 61,
     "metadata": {},
     "output_type": "execute_result"
    }
   ],
   "source": [
    "a32=a31[0:5];a32 #select column elements between 0th and 4th elements(the 5th is not included)"
   ]
  },
  {
   "cell_type": "code",
   "execution_count": null,
   "id": "eca22807",
   "metadata": {},
   "outputs": [],
   "source": [
    "a33=a31[3:5];a33 #select column elements between 3rd and 4th elements(the 5th is not included)"
   ]
  },
  {
   "cell_type": "code",
   "execution_count": null,
   "id": "d4e69947",
   "metadata": {},
   "outputs": [],
   "source": [
    "a34=a31[:4];a34 #select column elements between 0th and 3rd elements(the 4th is not included)"
   ]
  },
  {
   "cell_type": "code",
   "execution_count": null,
   "id": "de5d054c",
   "metadata": {},
   "outputs": [],
   "source": [
    "a35=a31[3:];a35 #select elements from indice 3 to all"
   ]
  },
  {
   "cell_type": "code",
   "execution_count": null,
   "id": "c22fc875",
   "metadata": {},
   "outputs": [],
   "source": [
    "a36=a31[3::-1];a36 #select elements from indice 3 to all but in the reverse order\n",
    "#some examples in m by n matrices..."
   ]
  },
  {
   "cell_type": "code",
   "execution_count": 62,
   "id": "2050ddb7",
   "metadata": {},
   "outputs": [],
   "source": [
    "a37=np.random.randint(10,100,[7,7])"
   ]
  },
  {
   "cell_type": "code",
   "execution_count": 63,
   "id": "6f726ada",
   "metadata": {},
   "outputs": [
    {
     "data": {
      "text/plain": [
       "array([[63, 77, 91, 85, 80, 40, 94],\n",
       "       [71, 39, 31, 32, 46, 57, 75],\n",
       "       [80, 96, 27, 19, 18, 14, 57],\n",
       "       [95, 25, 51, 35, 89, 23, 36],\n",
       "       [90, 14, 31, 68, 44, 95, 35],\n",
       "       [68, 49, 16, 24, 32, 52, 13],\n",
       "       [38, 35, 70, 13, 76, 54, 76]])"
      ]
     },
     "execution_count": 63,
     "metadata": {},
     "output_type": "execute_result"
    }
   ],
   "source": [
    "a37  #construction first"
   ]
  },
  {
   "cell_type": "code",
   "execution_count": 64,
   "id": "e8967a8a",
   "metadata": {},
   "outputs": [
    {
     "data": {
      "text/plain": [
       "40"
      ]
     },
     "execution_count": 64,
     "metadata": {},
     "output_type": "execute_result"
    }
   ],
   "source": [
    "a37[0,5]   #We select i=0 and j=5th element (indices start from 0 not from 1 !!!!)"
   ]
  },
  {
   "cell_type": "code",
   "execution_count": null,
   "id": "f33f490e",
   "metadata": {},
   "outputs": [],
   "source": [
    "a37[3,4]   #We now select i=3 and j=4th element\n",
    "\"\"\"our formula for row-wise selection: a23[start:stop:step]----\n",
    "Defaıult value of start is 0 and stop value is not included\"\"\""
   ]
  },
  {
   "cell_type": "code",
   "execution_count": null,
   "id": "429c1763",
   "metadata": {},
   "outputs": [],
   "source": [
    "a37[0:4:2]"
   ]
  },
  {
   "cell_type": "code",
   "execution_count": null,
   "id": "6e449208",
   "metadata": {},
   "outputs": [],
   "source": [
    "a37"
   ]
  },
  {
   "cell_type": "code",
   "execution_count": null,
   "id": "2ba115f1",
   "metadata": {},
   "outputs": [],
   "source": [
    "a37[:4:2]   #select the ows between i=0,2, and 4 (the 4th one is not included)\n",
    "\"\"\"Formula: array[r-start:r-stop:r-increment,c-start:c-stop:c-increment], \n",
    "here r-:row, c-:column(stops are not included)\"\"\""
   ]
  },
  {
   "cell_type": "code",
   "execution_count": null,
   "id": "69765d96",
   "metadata": {},
   "outputs": [],
   "source": [
    "a37[1:3:1]   #another example (first 2 rows are selected-stop index is not included!!!)"
   ]
  },
  {
   "cell_type": "code",
   "execution_count": null,
   "id": "23795f01",
   "metadata": {},
   "outputs": [],
   "source": [
    "a37[1:3,2:4] #select row 1,2 and column 2,3 (rw3 and colum 4 is not included)"
   ]
  },
  {
   "cell_type": "code",
   "execution_count": null,
   "id": "2633e5fe",
   "metadata": {},
   "outputs": [],
   "source": [
    "a37[2:6:3,4:7]    #select row 2,5 and column 4,5,6 (row 6 and column 7 is not included)"
   ]
  },
  {
   "cell_type": "code",
   "execution_count": null,
   "id": "56cc85c5",
   "metadata": {},
   "outputs": [],
   "source": [
    "a37"
   ]
  },
  {
   "cell_type": "code",
   "execution_count": null,
   "id": "89d24fa2",
   "metadata": {},
   "outputs": [],
   "source": [
    "a37[1:3:1,::-1]"
   ]
  },
  {
   "cell_type": "code",
   "execution_count": null,
   "id": "e440bec1",
   "metadata": {},
   "outputs": [],
   "source": [
    "a37[::-1,]    #All rows are reversed"
   ]
  },
  {
   "cell_type": "code",
   "execution_count": null,
   "id": "0b12cf9e",
   "metadata": {},
   "outputs": [],
   "source": [
    "a37[::-1]    #The same"
   ]
  },
  {
   "cell_type": "code",
   "execution_count": null,
   "id": "b2004541",
   "metadata": {},
   "outputs": [],
   "source": [
    "a37[::,::-1] #All columns are reversed"
   ]
  },
  {
   "cell_type": "code",
   "execution_count": null,
   "id": "71dd05b6",
   "metadata": {},
   "outputs": [],
   "source": [
    "a37[5:3:-1,::] # from row 5 to row 3 in the reverse direction (end point row 3 is not included''')"
   ]
  },
  {
   "cell_type": "code",
   "execution_count": null,
   "id": "89b0abeb",
   "metadata": {},
   "outputs": [],
   "source": [
    "a37[::,6:2:-2]   #from column 6 to 2 (end point 2 is not included!) with step 2"
   ]
  },
  {
   "cell_type": "code",
   "execution_count": null,
   "id": "cbbae2c3",
   "metadata": {},
   "outputs": [],
   "source": [
    "#Now some matrix operations\n",
    "a38=np.array([[1,2],[3,4]]);a39=np.array([[1,0],[2,5]])"
   ]
  },
  {
   "cell_type": "code",
   "execution_count": null,
   "id": "824bdfbf",
   "metadata": {},
   "outputs": [],
   "source": [
    "a40=np.eye(2);a40"
   ]
  },
  {
   "cell_type": "code",
   "execution_count": null,
   "id": "1ab3ba28",
   "metadata": {},
   "outputs": [],
   "source": [
    "2*a40"
   ]
  },
  {
   "cell_type": "code",
   "execution_count": null,
   "id": "403bdce3",
   "metadata": {},
   "outputs": [],
   "source": [
    "a41= np.dot(a38,a39);a41  #dot product formula: #dot(a, b)[i,j,k,m] = sum(a[i,j,:] * b[k,:,m])"
   ]
  },
  {
   "cell_type": "code",
   "execution_count": null,
   "id": "72d80899",
   "metadata": {},
   "outputs": [],
   "source": [
    "a41=a38*a39;a41 #elementwise product"
   ]
  },
  {
   "cell_type": "code",
   "execution_count": null,
   "id": "ee1995dd",
   "metadata": {},
   "outputs": [],
   "source": [
    "a42=np.multiply(a38,a39);a42 #the same as before"
   ]
  },
  {
   "cell_type": "code",
   "execution_count": null,
   "id": "2f2854af",
   "metadata": {},
   "outputs": [],
   "source": [
    "print (\"the transpose of a38={0} is {1}\".format(a38,a38.transpose()) )"
   ]
  },
  {
   "cell_type": "code",
   "execution_count": null,
   "id": "43e5bba8",
   "metadata": {},
   "outputs": [],
   "source": [
    "print (\"the inverse of a38={0} is {1}\".format(a38,np.linalg.inv(a38)) )"
   ]
  },
  {
   "cell_type": "code",
   "execution_count": null,
   "id": "dcfdd01e",
   "metadata": {},
   "outputs": [],
   "source": [
    "a43=np.linalg.inv(a38);a43"
   ]
  },
  {
   "cell_type": "code",
   "execution_count": null,
   "id": "e931b4d1",
   "metadata": {},
   "outputs": [],
   "source": [
    "#proof that a43 is the inverse o a38 is as follows\n",
    "np.dot(a38,a43)"
   ]
  },
  {
   "cell_type": "code",
   "execution_count": null,
   "id": "986a6501",
   "metadata": {},
   "outputs": [],
   "source": [
    "#now lets calculate the determinant\n",
    "a38"
   ]
  },
  {
   "cell_type": "code",
   "execution_count": null,
   "id": "97efdb5a",
   "metadata": {},
   "outputs": [],
   "source": [
    "from numpy import linalg as adu; adu.det(a38)  "
   ]
  },
  {
   "cell_type": "code",
   "execution_count": null,
   "id": "6d9fa6e3",
   "metadata": {},
   "outputs": [],
   "source": [
    "np.linalg.det(a38)   #or like thisss\n",
    "#now power of a matrix"
   ]
  },
  {
   "cell_type": "code",
   "execution_count": null,
   "id": "27768c98",
   "metadata": {},
   "outputs": [],
   "source": [
    "a38"
   ]
  },
  {
   "cell_type": "code",
   "execution_count": null,
   "id": "27ee635a",
   "metadata": {},
   "outputs": [],
   "source": [
    "pow(a38,2)  #elementwise product(not matrix square)"
   ]
  },
  {
   "cell_type": "code",
   "execution_count": null,
   "id": "b0ee5a99",
   "metadata": {},
   "outputs": [],
   "source": [
    "np.power(a38,2)"
   ]
  },
  {
   "cell_type": "code",
   "execution_count": null,
   "id": "67945eac",
   "metadata": {},
   "outputs": [],
   "source": [
    "#proof\n",
    "np.dot(a38,a38)"
   ]
  },
  {
   "cell_type": "code",
   "execution_count": null,
   "id": "d08a60c3",
   "metadata": {},
   "outputs": [],
   "source": [
    "#A complicated example on shaping matrices\n",
    "a43=np.array([[1,2,3,4,5,6,7,8,9],[0,1,2,0,3,0,0,1,0],[0,1,0,1,1,0,1,2,0],[1,0,0,0,0,1,1,0,0]]);a43"
   ]
  },
  {
   "cell_type": "code",
   "execution_count": null,
   "id": "e0c3864d",
   "metadata": {},
   "outputs": [],
   "source": [
    "a44=a43[::,0:4:2];a44"
   ]
  },
  {
   "cell_type": "code",
   "execution_count": null,
   "id": "e84728e5",
   "metadata": {},
   "outputs": [],
   "source": [
    "a45=a43[0:5,:2].transpose();a45"
   ]
  },
  {
   "cell_type": "code",
   "execution_count": null,
   "id": "818f895d",
   "metadata": {},
   "outputs": [],
   "source": [
    "a46=np.dot(a44,a45);a46"
   ]
  },
  {
   "cell_type": "code",
   "execution_count": null,
   "id": "a846f78f",
   "metadata": {},
   "outputs": [],
   "source": [
    "a47=np.dot(a43[::,0:4:2],a43[0:5,:2].transpose());a47 #a47 is the same as a46"
   ]
  },
  {
   "cell_type": "code",
   "execution_count": null,
   "id": "ff7e8989",
   "metadata": {},
   "outputs": [],
   "source": [
    "a48=a47.transpose();a48 #transpose of a47"
   ]
  },
  {
   "cell_type": "code",
   "execution_count": null,
   "id": "81c0b38d",
   "metadata": {},
   "outputs": [],
   "source": [
    "a49=np.linalg.inv(a46);a49 #find inverse of a46 or 47 gives no result here because it is a singular matrix (det=0)"
   ]
  },
  {
   "cell_type": "code",
   "execution_count": null,
   "id": "3198c7a1",
   "metadata": {},
   "outputs": [],
   "source": [
    "a50=a43[3:0:-1,0:3];a50"
   ]
  },
  {
   "cell_type": "code",
   "execution_count": null,
   "id": "f533cce3",
   "metadata": {},
   "outputs": [],
   "source": [
    "a51=np.linalg.inv(a50);a51 #find inverse of a50"
   ]
  },
  {
   "cell_type": "code",
   "execution_count": null,
   "id": "79a63cfa",
   "metadata": {},
   "outputs": [],
   "source": [
    "#for proof:\n",
    "np.dot(a51,a50)"
   ]
  },
  {
   "cell_type": "code",
   "execution_count": null,
   "id": "f9610a27",
   "metadata": {},
   "outputs": [],
   "source": [
    "#NOW RESHAPE COMMAND----VERY IMPORTANT!!!\n",
    "a52 = np.arange(6);a52"
   ]
  },
  {
   "cell_type": "code",
   "execution_count": null,
   "id": "7191be13",
   "metadata": {},
   "outputs": [],
   "source": [
    "a52.reshape((3, 2))"
   ]
  },
  {
   "cell_type": "code",
   "execution_count": null,
   "id": "2637c2c2",
   "metadata": {},
   "outputs": [],
   "source": [
    "np.reshape(a52, (2, 3))\n",
    " # C-like index ordering"
   ]
  },
  {
   "cell_type": "code",
   "execution_count": null,
   "id": "50097845",
   "metadata": {},
   "outputs": [],
   "source": [
    "a53 = np.array([[1,2,3], [4,5,6]]);a53"
   ]
  },
  {
   "cell_type": "code",
   "execution_count": null,
   "id": "b8f5e149",
   "metadata": {},
   "outputs": [],
   "source": [
    "a54=np.reshape(a53, 6);a54"
   ]
  },
  {
   "cell_type": "code",
   "execution_count": null,
   "id": "6cbc29f2",
   "metadata": {},
   "outputs": [],
   "source": [
    "a53.shape"
   ]
  },
  {
   "cell_type": "code",
   "execution_count": null,
   "id": "3b5d8c5c",
   "metadata": {},
   "outputs": [],
   "source": [
    "a54.shape"
   ]
  },
  {
   "cell_type": "code",
   "execution_count": null,
   "id": "348767c3",
   "metadata": {},
   "outputs": [],
   "source": [
    "a55= np.array([[2,3,4], [5,6,7]]);a55   "
   ]
  },
  {
   "cell_type": "code",
   "execution_count": null,
   "id": "f65a04f1",
   "metadata": {},
   "outputs": [],
   "source": [
    "a56=np.reshape(a55, (3, 2));a56\n",
    "    #See the following wep page https://www.w3resource.com/numpy/manipulation/reshape.php\n",
    "    #and https://geekflare.com/numpy-reshape-arrays-in-python/\n",
    "    # and https://towardsdatascience.com/reshaping-numpy-arrays-in-python-a-step-by-step-pictorial-tutorial-aed5f471cf0b\n",
    "    #Use of -1 is as follows: \n",
    "\"\"\"Use -1 for at most one dimension in the new shape \n",
    "if you would like the dimension to be automatically inferred.\"\"\""
   ]
  },
  {
   "cell_type": "code",
   "execution_count": null,
   "id": "061fe552",
   "metadata": {},
   "outputs": [],
   "source": [
    "a57=np.arange(20) ;a57       "
   ]
  },
  {
   "cell_type": "code",
   "execution_count": null,
   "id": "9e141eff",
   "metadata": {},
   "outputs": [],
   "source": [
    "# But let' suppose we wish to rehape it to 4 by 3 now\n",
    "np.reshape(a57, (4,3))   # it gives error since we have totally 20 elements but 4 by 3 has 12 elements"
   ]
  },
  {
   "cell_type": "code",
   "execution_count": null,
   "id": "4279e7d9",
   "metadata": {},
   "outputs": [],
   "source": [
    "np.reshape(a57, (4,6))   # similarly we can't reshape a 1 by 20 matrix to a 4 by 6!!!!\n",
    "#But we use -1 to let numpy determine the column number"
   ]
  },
  {
   "cell_type": "code",
   "execution_count": null,
   "id": "90d4508d",
   "metadata": {},
   "outputs": [],
   "source": [
    "a58=np.reshape(a57, (4,-1));a58"
   ]
  },
  {
   "cell_type": "code",
   "execution_count": null,
   "id": "90e8ff30",
   "metadata": {},
   "outputs": [],
   "source": [
    "#it is just the same as follows:\n",
    "a59=np.reshape(a57, (4,5));a59"
   ]
  },
  {
   "cell_type": "code",
   "execution_count": null,
   "id": "86212c94",
   "metadata": {},
   "outputs": [],
   "source": [
    "#Similarly:\n",
    "a60=np.reshape(a57, (2,-1));a60"
   ]
  },
  {
   "cell_type": "code",
   "execution_count": null,
   "id": "8690db16",
   "metadata": {},
   "outputs": [],
   "source": [
    "a61=np.reshape(a57, (2,-2));a61"
   ]
  },
  {
   "cell_type": "code",
   "execution_count": null,
   "id": "10eac57d",
   "metadata": {},
   "outputs": [],
   "source": [
    "a62=np.reshape(a57, (2,-3));a62"
   ]
  },
  {
   "cell_type": "code",
   "execution_count": null,
   "id": "9ee72725",
   "metadata": {},
   "outputs": [],
   "source": [
    "a64=np.reshape(a57, (2,-7));a64  # all are the same"
   ]
  },
  {
   "cell_type": "code",
   "execution_count": null,
   "id": "6c436539",
   "metadata": {},
   "outputs": [],
   "source": [
    "a65=np.reshape(a57,[5,-1]);a65            "
   ]
  },
  {
   "cell_type": "code",
   "execution_count": null,
   "id": "f27905e7",
   "metadata": {},
   "outputs": [],
   "source": [
    "a66=np.reshape(a57,[5,-9]);a66 "
   ]
  },
  {
   "cell_type": "code",
   "execution_count": null,
   "id": "846e786f",
   "metadata": {},
   "outputs": [],
   "source": [
    "a67=np.reshape(a57,[5,4]);a67  # all the last three ones are the same \n",
    "# note the folowing synta is gives the same result"
   ]
  },
  {
   "cell_type": "code",
   "execution_count": null,
   "id": "c7efeb8b",
   "metadata": {},
   "outputs": [],
   "source": [
    "a68=a57.reshape(5,4);a68"
   ]
  },
  {
   "cell_type": "code",
   "execution_count": null,
   "id": "357951f9",
   "metadata": {},
   "outputs": [],
   "source": [
    "a69=a57.reshape(5,-1);a69\n",
    "#How to create a column matrix by using reshaoe"
   ]
  },
  {
   "cell_type": "code",
   "execution_count": null,
   "id": "8c772924",
   "metadata": {},
   "outputs": [],
   "source": [
    "a70=np.arange(10).reshape((10, 1));a70"
   ]
  },
  {
   "cell_type": "code",
   "execution_count": null,
   "id": "9625ae4d",
   "metadata": {},
   "outputs": [],
   "source": [
    "np.array([np.arange(1,10)]).transpose()"
   ]
  },
  {
   "cell_type": "code",
   "execution_count": null,
   "id": "64875fe1",
   "metadata": {},
   "outputs": [],
   "source": [
    "np.array([np.arange(1,30,2)]).transpose()   #see a31 above"
   ]
  },
  {
   "cell_type": "code",
   "execution_count": null,
   "id": "4ebbeff5",
   "metadata": {},
   "outputs": [],
   "source": [
    "#NOW VSTACK AND HSTACK\n",
    "#See the following web page: https://www.geeksforgeeks.org/numpy-hstack-in-python/\n",
    "# # Python program explaining\n",
    "# hstack() AND vstack()function\n",
    "#EXAMPLE1\n",
    "import numpy as np\n",
    "# input array\n",
    "in_arr1 = np.array([ 1, 2, 3] )\n",
    "print (\"1st Input array : \\n\", in_arr1)"
   ]
  },
  {
   "cell_type": "code",
   "execution_count": null,
   "id": "5380d58c",
   "metadata": {},
   "outputs": [],
   "source": [
    "in_arr2 = np.array([ 4, 5, 6] )\n",
    "print (\"2nd Input array : \\n\", in_arr2)\n",
    "\n",
    "# Stacking the two arrays horizontally\n",
    "out_arr_hor = np.hstack((in_arr1, in_arr2))\n",
    "print (\"Output horizontally stacked array:\\n \", out_arr_hor)"
   ]
  },
  {
   "cell_type": "code",
   "execution_count": null,
   "id": "98e7f36c",
   "metadata": {},
   "outputs": [],
   "source": [
    "# Stacking the two arrays verticaltally\n",
    "out_arr_ver = np.vstack((in_arr1, in_arr2))\n",
    "print (\"Output vertically stacked array:\\n \", out_arr_ver)\n",
    "#EXAMPLE2\n",
    "# Python program explaining\n",
    "# hstack() and vstack) function"
   ]
  },
  {
   "cell_type": "code",
   "execution_count": null,
   "id": "8a34a10f",
   "metadata": {},
   "outputs": [],
   "source": [
    "import numpy as np\n",
    "\n",
    "# input array\n",
    "in_arr1 = np.array([[ 1, 2, 3], [ -1, -2, -3]] )\n",
    "print (\"1st Input array : \\n\", in_arr1)"
   ]
  },
  {
   "cell_type": "code",
   "execution_count": null,
   "id": "ce769928",
   "metadata": {},
   "outputs": [],
   "source": [
    "in_arr2 = np.array([[ 4, 5, 6], [ -4, -5, -6]] )\n",
    "print (\"2nd Input array : \\n\", in_arr2)\n",
    "\n",
    "# Stacking the two arrays horizontally\n",
    "out_arr_hor = np.hstack((in_arr1, in_arr2))\n",
    "print (\"Output stacked array :\\n \", out_arr_hor)"
   ]
  },
  {
   "cell_type": "code",
   "execution_count": null,
   "id": "bdb7719b",
   "metadata": {},
   "outputs": [],
   "source": [
    "# Stacking the two arrays vertically\n",
    "out_arr_ver = np.vstack((in_arr1, in_arr2))\n",
    "print (\"Output stacked array :\\n \", out_arr_ver)"
   ]
  }
 ],
 "metadata": {
  "kernelspec": {
   "display_name": "Python 3 (ipykernel)",
   "language": "python",
   "name": "python3"
  },
  "language_info": {
   "codemirror_mode": {
    "name": "ipython",
    "version": 3
   },
   "file_extension": ".py",
   "mimetype": "text/x-python",
   "name": "python",
   "nbconvert_exporter": "python",
   "pygments_lexer": "ipython3",
   "version": "3.9.13"
  }
 },
 "nbformat": 4,
 "nbformat_minor": 5
}
